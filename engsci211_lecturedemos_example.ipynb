{
 "cells": [
  {
   "cell_type": "markdown",
   "metadata": {},
   "source": [
    "# Example Notebook\n",
    "\n",
    "This is an example Azure Notebook. Note that cells can either contain text, like this one, or Python/R code, like in the cell below."
   ]
  },
  {
   "cell_type": "code",
   "execution_count": 1,
   "metadata": {},
   "outputs": [
    {
     "name": "stdout",
     "output_type": "stream",
     "text": [
      "You have just executed some Python code. Well done!\n"
     ]
    }
   ],
   "source": [
    "# this is a Python code block.\n",
    "# highlight this cell and press ctrl+enter to execute the code below\n",
    "print (\"You have just executed some Python code. Well done!\")"
   ]
  },
  {
   "cell_type": "markdown",
   "metadata": {},
   "source": [
    "Text cells are labelled as \"Markdown\" cells using the dropdown menu in the toolbar. Code cells are labelled as \"Code\" using the dropdown menu in the toolbar.\n",
    "\n",
    "You can double-click this cell to modify the *text* **within** it. Once finished making changes, press ctrl+enter to reformat this markdown cell."
   ]
  },
  {
   "cell_type": "code",
   "execution_count": 6,
   "metadata": {},
   "outputs": [],
   "source": [
    "# this code block will store values in two variables\n",
    "a = 4\n",
    "b = 3"
   ]
  },
  {
   "cell_type": "code",
   "execution_count": 7,
   "metadata": {},
   "outputs": [
    {
     "name": "stdout",
     "output_type": "stream",
     "text": [
      "7\n"
     ]
    }
   ],
   "source": [
    "# this code block remembers what values a and b have from the previous code block.\n",
    "print(a+b)"
   ]
  }
 ],
 "metadata": {
  "kernelspec": {
   "display_name": "Python 3.6",
   "language": "python",
   "name": "python36"
  },
  "language_info": {
   "codemirror_mode": {
    "name": "ipython",
    "version": 3
   },
   "file_extension": ".py",
   "mimetype": "text/x-python",
   "name": "python",
   "nbconvert_exporter": "python",
   "pygments_lexer": "ipython3",
   "version": "3.6.3"
  }
 },
 "nbformat": 4,
 "nbformat_minor": 2
}
