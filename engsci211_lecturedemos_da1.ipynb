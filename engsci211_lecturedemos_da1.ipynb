{
 "cells": [
  {
   "cell_type": "markdown",
   "metadata": {
    "collapsed": true
   },
   "source": [
    "## Block 1 - Statistical Inference"
   ]
  },
  {
   "cell_type": "code",
   "execution_count": null,
   "metadata": {},
   "outputs": [],
   "source": [
    "# install and load libraries\n",
    "install.packages(\"s20x\")\n",
    "library(s20x)\n",
    "library(repr)\n",
    "options(repr.plot.width=8, repr.plot.height=6)"
   ]
  },
  {
   "cell_type": "markdown",
   "metadata": {},
   "source": [
    "## One-sample analysis"
   ]
  },
  {
   "cell_type": "code",
   "execution_count": null,
   "metadata": {
    "collapsed": true
   },
   "outputs": [],
   "source": [
    "# slide 8\n",
    "samp1 = c(6.7, 13.1, 6.5, 9.4, 11.9, 13.7, 11.4, 11.6, 15.7, 8.6, 9.5, 7.7, 15.3, 12.9, 8.1, 12.9, 6.7, 8.6, 9.9, 9.5, 14.6, 13, 7.5, 7.5, 5)\n",
    "website.df = data.frame(dwellTimes = c(samp1))"
   ]
  },
  {
   "cell_type": "code",
   "execution_count": null,
   "metadata": {},
   "outputs": [],
   "source": [
    "# slide 9\n",
    "layout20x(1, 2)\n",
    "hist(website.df$dwellTimes, main = \"Dwell times\", xlab = \"Dwell time (mins)\")\n",
    "boxplot(website.df$dwellTimes, ylab = \"Dwell time (mins)\", main = \"Dwell times\")"
   ]
  },
  {
   "cell_type": "code",
   "execution_count": null,
   "metadata": {},
   "outputs": [],
   "source": [
    "# slide 12\n",
    "mean(website.df$dwellTimes)\n",
    "median(website.df$dwellTimes)"
   ]
  },
  {
   "cell_type": "code",
   "execution_count": null,
   "metadata": {},
   "outputs": [],
   "source": [
    "sd(website.df$dwellTimes)\n",
    "sd(website.df$dwellTimes)/sqrt(nrow(website.df))"
   ]
  },
  {
   "cell_type": "code",
   "execution_count": null,
   "metadata": {},
   "outputs": [],
   "source": [
    "# slide 16\n",
    "t.test(website.df$dwellTimes)$conf.int"
   ]
  },
  {
   "cell_type": "code",
   "execution_count": null,
   "metadata": {},
   "outputs": [],
   "source": [
    "# slide 27\n",
    "t.test(website.df$dwellTimes)\n",
    "#t.test(website.df$dwellTimes, mu = 8.5)"
   ]
  },
  {
   "cell_type": "code",
   "execution_count": null,
   "metadata": {},
   "outputs": [],
   "source": [
    "# slide 34\n",
    "normcheck(website.df$dwellTimes)\n",
    "#normcheck(website.df$dwellTimes, shapiro.wilk = TRUE)"
   ]
  },
  {
   "cell_type": "markdown",
   "metadata": {},
   "source": [
    "## Two-sample analysis"
   ]
  },
  {
   "cell_type": "code",
   "execution_count": null,
   "metadata": {
    "collapsed": true
   },
   "outputs": [],
   "source": [
    "## slide 45\n",
    "samp2 = c(15.2, 18.6, 17.4, 14.5, 17, 14.5, 10.1, 15.9, 15.3, 11.6, 15.7, 16.4, 14.5, 17.6, 15.3, 17, 10.5, 16.1, 13.7, 17, 14.3, 13.1, 15.9, 12.9, 12)\n",
    "website2samp.df = data.frame(dwellTimes = c(samp1, samp2), state = c(rep(\"before\", 25), rep(\"after\", 25)))\n",
    "head(website2samp.df, 3)\n",
    "tail(website2samp.df, 3)"
   ]
  },
  {
   "cell_type": "code",
   "execution_count": null,
   "metadata": {
    "collapsed": true
   },
   "outputs": [],
   "source": [
    "# slide 46\n",
    "layout20x(1, 2)\n",
    "boxplot(dwellTimes ~ state, data = website2samp.df, ylab = \"dwell times\")\n",
    "stripchart(dwellTimes ~ state, data = website2samp.df, vert = TRUE, method = \"stack\", pch = 1)"
   ]
  },
  {
   "cell_type": "code",
   "execution_count": null,
   "metadata": {
    "collapsed": true
   },
   "outputs": [],
   "source": [
    "# slide 47\n",
    "onewayPlot(dwellTimes ~ state, data = website2samp.df)"
   ]
  },
  {
   "cell_type": "code",
   "execution_count": null,
   "metadata": {
    "collapsed": true
   },
   "outputs": [],
   "source": [
    "# slide 52\n",
    "eovcheck(dwellTimes ~ state, data = website2samp.df)"
   ]
  },
  {
   "cell_type": "code",
   "execution_count": null,
   "metadata": {
    "collapsed": true
   },
   "outputs": [],
   "source": [
    "# slide 53 - broken R code, need to fix\n",
    "# eovcheck(x ~ group, data = samp1)"
   ]
  },
  {
   "cell_type": "code",
   "execution_count": null,
   "metadata": {
    "collapsed": true
   },
   "outputs": [],
   "source": [
    "# slide 54\n",
    "normcheck(lm(dwellTimes ~ state, data = website2samp.df))"
   ]
  },
  {
   "cell_type": "code",
   "execution_count": null,
   "metadata": {
    "collapsed": true
   },
   "outputs": [],
   "source": [
    "#slide 56\n",
    "t.test(dwellTimes ~ state, data = website2samp.df, var.equal = TRUE)"
   ]
  },
  {
   "cell_type": "code",
   "execution_count": null,
   "metadata": {
    "collapsed": true
   },
   "outputs": [],
   "source": [
    "# slide 57\n",
    "t.test(dwellTimes ~ state, data = website2samp.df, var.equal = FALSE)"
   ]
  }
 ],
 "metadata": {
  "kernelspec": {
   "display_name": "R",
   "language": "R",
   "name": "r"
  },
  "language_info": {
   "codemirror_mode": "r",
   "file_extension": ".r",
   "mimetype": "text/x-r-source",
   "name": "R",
   "pygments_lexer": "r",
   "version": "3.4.1"
  }
 },
 "nbformat": 4,
 "nbformat_minor": 2
}
