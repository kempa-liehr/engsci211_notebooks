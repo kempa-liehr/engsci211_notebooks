{
 "cells": [
  {
   "cell_type": "markdown",
   "metadata": {},
   "source": [
    "# Case Study 7. Crest Toothpaste"
   ]
  },
  {
   "cell_type": "markdown",
   "metadata": {},
   "source": [
    "Shuchman and Riesz conducted a marketing study aimed at characterising\n",
    "the purchasers and non-purchasers of Crest toothpaste. Purchasers were\n",
    "defined as those households that converted to Crest following its\n",
    "endorsement by the American Dental Association in August 1960, and\n",
    "remained ''loyal'' to Crest until at least April, 1963. Non-purchasers\n",
    "were defined as households that did not convert during the same period.\n",
    "Using demographic data from 499 purchasers and 499 non-purchasers, they\n",
    "demonstrated that household size (number of persons) and mean household\n",
    "income were significantly larger for purchasers than non-purchasers. A\n",
    "similar study utilised random samples of size 20 on the age of the\n",
    "householder primarily responsible for toothpaste purchases. The\n",
    "variables measured were:\n",
    "\n",
    "\\begin{align*}\n",
    "\\textbf{purchasers} &\\quad\\quad \\textrm{the age of the person in the household responsible for purchases of Crest} \\\\\n",
    "\\textbf{nonpurchasers} &\\quad\\quad \\textrm{the age of the person in the household responsible for purchases of other brands of toothpaste}\n",
    "\\end{align*}"
   ]
  },
  {
   "cell_type": "code",
   "execution_count": null,
   "metadata": {},
   "outputs": [],
   "source": [
    "install.packages(\"s20x\")\n",
    "library(s20x)\n",
    "library(repr)\n",
    "options(repr.plot.width=8, repr.plot.height=6)"
   ]
  },
  {
   "cell_type": "code",
   "execution_count": null,
   "metadata": {},
   "outputs": [],
   "source": [
    "data(toothpaste.df)\n",
    "head(toothpaste.df)"
   ]
  },
  {
   "cell_type": "code",
   "execution_count": null,
   "metadata": {},
   "outputs": [],
   "source": [
    "# Combine the two columns into one vector of ages\n",
    "ages = with(toothpaste.df, c(purchasers, nonpurchasers))\n",
    "# Generate a vector of whether a person purchased Crest\n",
    "buy = rep(c(\"Yes\", \"No\"), c(20, 20))\n",
    "# Rewrite, treating buy as a factor.\n",
    "buy = factor(buy)"
   ]
  },
  {
   "cell_type": "code",
   "execution_count": null,
   "metadata": {},
   "outputs": [],
   "source": [
    "onewayPlot(ages ~ buy)"
   ]
  },
  {
   "cell_type": "code",
   "execution_count": null,
   "metadata": {},
   "outputs": [],
   "source": [
    "summaryStats(ages ~ buy)"
   ]
  },
  {
   "cell_type": "code",
   "execution_count": null,
   "metadata": {},
   "outputs": [],
   "source": [
    "# ages and buy are not in a dataframe but are column vectors in their own right, so we can\n",
    "# refer to them directly\n",
    "normcheck(lm(ages ~ buy))"
   ]
  },
  {
   "cell_type": "code",
   "execution_count": null,
   "metadata": {},
   "outputs": [],
   "source": [
    "eovcheck(ages ~ buy)"
   ]
  },
  {
   "cell_type": "code",
   "execution_count": null,
   "metadata": {},
   "outputs": [],
   "source": [
    "t.test(ages ~ buy, var.equal = TRUE)"
   ]
  },
  {
   "cell_type": "markdown",
   "metadata": {},
   "source": [
    "## Methods and Assumption Checks\n",
    "\n",
    "We have a numerical measurement made on two distinct groups, so we\n",
    "should do a two-sample $t$-test.\n",
    "\n",
    "We assume the customers are independent of one another. The equality of\n",
    "variance and Normality assumptions looks to be satisfied (but there\n",
    "seems to be slight evidence of left skewness). We can use the standard\n",
    "two-sample $t$-test.\n",
    "\n",
    "The model fitted is\n",
    "${\\tt ages}_{ij} = \\mu + \\alpha_i + \\varepsilon_{ij}$, where\n",
    "$\\alpha_i$ is the effect of whether the person buys Crest toothpaste\n",
    "or not, either changed or present, and\n",
    "$\\varepsilon_{ij} {\\overset{\\text{iid}}{\\sim}} N(0, \\sigma^2)$."
   ]
  },
  {
   "cell_type": "markdown",
   "metadata": {},
   "source": [
    "## Executive Summary\n",
    "\n",
    "These data were collected to assess whether there was a difference,\n",
    "between purchasers of Crest toothpaste compared to purchasers of other\n",
    "brands, with respect to the age of the person responsible for household\n",
    "toothpaste purchases.\n",
    "\n",
    "We have observed that the age of the person in the household primarily\n",
    "responsible for toothpaste purchases is, on average, younger for Crest\n",
    "purchasers than for non-purchasers.\n",
    "\n",
    "We estimate that the mean age for purchasers of Crest toothpaste is up\n",
    "to 15.1 years younger than the mean age for non-purchasers of Crest\n",
    "toothpaste."
   ]
  }
 ],
 "metadata": {
  "kernelspec": {
   "display_name": "R",
   "language": "R",
   "name": "r"
  },
  "language_info": {
   "codemirror_mode": "r",
   "file_extension": ".r",
   "mimetype": "text/x-r-source",
   "name": "R",
   "pygments_lexer": "r",
   "version": "3.3.3"
  }
 },
 "nbformat": 4,
 "nbformat_minor": 2
}
