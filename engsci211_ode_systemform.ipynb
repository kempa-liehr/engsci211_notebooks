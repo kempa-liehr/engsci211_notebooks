{
 "cells": [
  {
   "cell_type": "markdown",
   "metadata": {},
   "source": [
    "# Steady-State ODEs"
   ]
  },
  {
   "cell_type": "code",
   "execution_count": null,
   "metadata": {},
   "outputs": [],
   "source": [
    "%matplotlib inline\n",
    "from matplotlib import pyplot as plt\n",
    "import numpy as np\n",
    "from scipy.integrate import odeint\n",
    "from ipywidgets import interact"
   ]
  },
  {
   "cell_type": "markdown",
   "metadata": {},
   "source": [
    "## Newton's Law of Cooling"
   ]
  },
  {
   "cell_type": "code",
   "execution_count": 29,
   "metadata": {},
   "outputs": [
    {
     "data": {
      "application/vnd.jupyter.widget-view+json": {
       "model_id": "42c50b0736484f44a868d26bab516ddc",
       "version_major": 2,
       "version_minor": 0
      },
      "text/plain": [
       "A Jupyter Widget"
      ]
     },
     "metadata": {},
     "output_type": "display_data"
    },
    {
     "data": {
      "text/plain": [
       "<function __main__.plotter>"
      ]
     },
     "execution_count": 29,
     "metadata": {},
     "output_type": "execute_result"
    }
   ],
   "source": [
    "# define ODE\n",
    "def nloc(T, t, Ts):\n",
    "    return -1.*np.log(2)/120.*(T-Ts)\n",
    "\n",
    "# define plot function\n",
    "def plotter(Ts):\n",
    "    t = np.linspace(0, 1200, 1000.)\n",
    "    T0 = 80. #initial condition\n",
    "    sol = odeint(nloc, T0, t, args=(Ts,))\n",
    "\n",
    "    f,ax = plt.subplots(1,1, figsize=(14,8))\n",
    "    ax.plot(t, sol, color='b', label=r'$T(t)$')\n",
    "    ax.plot([t[0],t[-1]], [Ts,Ts], 'k--', label=r\"$T_0$\")\n",
    "    legend = ax.legend(loc='upper right', shadow=False)\n",
    "    plt.ylim([0, 110])\n",
    "    plt.xlabel(r'$t$')\n",
    "    plt.ylabel(r'$T(t)$')\n",
    "    plt.show() \n",
    "    \n",
    "interact(plotter, Ts =(10,100,5))"
   ]
  },
  {
   "cell_type": "code",
   "execution_count": null,
   "metadata": {},
   "outputs": [],
   "source": []
  }
 ],
 "metadata": {
  "kernelspec": {
   "display_name": "Python 3",
   "language": "python",
   "name": "python3"
  },
  "language_info": {
   "codemirror_mode": {
    "name": "ipython",
    "version": 3
   },
   "file_extension": ".py",
   "mimetype": "text/x-python",
   "name": "python",
   "nbconvert_exporter": "python",
   "pygments_lexer": "ipython3",
   "version": "3.5.4"
  },
  "widgets": {
   "state": {
    "b4f932f52a0647cf842e39a19ca04c91": {
     "views": [
      {
       "cell_index": 1
      }
     ]
    }
   },
   "version": "1.2.0"
  }
 },
 "nbformat": 4,
 "nbformat_minor": 2
}
