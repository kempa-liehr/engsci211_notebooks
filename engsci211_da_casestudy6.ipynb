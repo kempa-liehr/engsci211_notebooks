{
 "cells": [
  {
   "cell_type": "markdown",
   "metadata": {},
   "source": [
    "# Case Study 6. Cecil SAN Configuration"
   ]
  },
  {
   "cell_type": "markdown",
   "metadata": {},
   "source": [
    "Researchers in the Department of Engineering Science use optimisation\n",
    "techniques to reconfigure existing (or design new) Storage Area Networks\n",
    "(SANs). In order to verify the performance of these designs they build\n",
    "computer simulations and test the performance of each SAN under peak\n",
    "traffic conditions.\n",
    "\n",
    "One Masters project for 2005 involved the development of a simulation\n",
    "for the existing Cecil SAN and a proposed new design using ARENA (a\n",
    "simulation package introduced in ENGSCI 355). In order to assess the\n",
    "performance of the new design, the through-times for the various flow\n",
    "paths were compared (with each simulation receiving the same network\n",
    "traffic). The through-times for the first 20 jobs sent from ''Server\n",
    "26'' to ''Device 7'' in the peak time period are stored in the following\n",
    "variable:\n",
    "\n",
    "\\begin{align*}\n",
    "\\textbf{ThroughTime} &\\quad\\quad \\textrm{through-time for the particular job from Server 26 to Device 7} \\\\\n",
    "\\textbf{Conf} &\\quad\\quad \\textrm{the particular configuration ('c' - changed, 'p' - present)}\n",
    "\\end{align*}"
   ]
  },
  {
   "cell_type": "code",
   "execution_count": null,
   "metadata": {},
   "outputs": [],
   "source": [
    "install.packages(\"s20x\")\n",
    "library(s20x)\n",
    "library(repr)\n",
    "options(repr.plot.width=8, repr.plot.height=6)"
   ]
  },
  {
   "cell_type": "code",
   "execution_count": null,
   "metadata": {},
   "outputs": [],
   "source": [
    "Cecil.df = read.table(\"data/Cecil2Sample.txt\", header = TRUE)\n",
    "attach(Cecil.df)\n",
    "#head(Cecil.df)\n",
    "#tail(Cecil.df)"
   ]
  },
  {
   "cell_type": "code",
   "execution_count": null,
   "metadata": {
    "scrolled": false
   },
   "outputs": [],
   "source": [
    "layout20x(1, 2)\n",
    "boxplot(ThroughTime ~ Conf, data = Cecil.df, main = \"Boxplots of Through-Times\")\n",
    "twosampPlot(ThroughTime ~ Conf, data = Cecil.df)"
   ]
  },
  {
   "cell_type": "code",
   "execution_count": null,
   "metadata": {},
   "outputs": [],
   "source": [
    "summaryStats(ThroughTime ~ Conf, data = Cecil.df)"
   ]
  },
  {
   "cell_type": "code",
   "execution_count": null,
   "metadata": {},
   "outputs": [],
   "source": [
    "normcheck(ThroughTime[Conf == \"c\"], shapiro.wilk = TRUE)\n",
    "normcheck(ThroughTime[Conf == \"p\"], shapiro.wilk = TRUE)\n",
    "#normcheck(lm(ThroughTime ~ Conf, data = Cecil.df))"
   ]
  },
  {
   "cell_type": "code",
   "execution_count": null,
   "metadata": {},
   "outputs": [],
   "source": [
    "eovcheck(ThroughTime ~ Conf, data = Cecil.df, levene = TRUE)"
   ]
  },
  {
   "cell_type": "code",
   "execution_count": null,
   "metadata": {},
   "outputs": [],
   "source": [
    "t.test(ThroughTime ~ Conf, data = Cecil.df, var.equal = FALSE)\n",
    "#t.test(ThroughTime ~ Conf, data = Cecil.df, var.equal = TRUE)"
   ]
  },
  {
   "cell_type": "markdown",
   "metadata": {},
   "source": [
    "## Methods and Assumption Checks\n",
    "\n",
    "We have a numerical measurement made on two independent configurations,\n",
    "so we should do a two-sample $t$-test.\n",
    "\n",
    "We assume the individual jobs are independent of one another. The\n",
    "equality of variance assumption of the residuals is clearly not met, as\n",
    "on the residual plot one group has much larger spread than the other.\n",
    "The Normality assumption is also probably not satisfied as points on the\n",
    "Q-Q plot do not lie on the straight line, but we can use the Central\n",
    "Limit Theorem to justify the Normality assumption. Because of the\n",
    "unequal variance, we should use the Welch version of the two-sample\n",
    "$t$-test.\n",
    "\n",
    "The model fitted is\n",
    "${\\tt ThroughTime}_{ij} = \\mu + \\alpha_i + \\varepsilon_{ij}$, where\n",
    "$\\alpha_i$ is the effect of being in each configuration, either\n",
    "changed or present, and $\\varepsilon_{ij} \\overset{\\text{iid}}{\\sim} N(0, \\sigma^2)$."
   ]
  },
  {
   "cell_type": "markdown",
   "metadata": {},
   "source": [
    "## Executive Summary\n",
    "\n",
    "In order to assess the performance of the new Cecil SAN design, the\n",
    "through-times for the various flow paths were compared using simulation\n",
    "models (with each simulation receiving the same network traffic). In\n",
    "particular, the through-times for the first 20 jobs sent from ''Server\n",
    "26'' to ''Device 7'' in the peak time period were analysed.\n",
    "\n",
    "We observe that the through-times on the present configuration are\n",
    "longer, on average, than the through-times on the proposed\n",
    "reconfiguration.\n",
    "\n",
    "We estimate that the mean through-time on the present network is between\n",
    "$4.52 \\times 10^{-5}$ and $1.50 \\times 10^{-4}$ seconds longer than\n",
    "on the proposed reconfiguration."
   ]
  }
 ],
 "metadata": {
  "kernelspec": {
   "display_name": "R",
   "language": "R",
   "name": "r"
  },
  "language_info": {
   "codemirror_mode": "r",
   "file_extension": ".r",
   "mimetype": "text/x-r-source",
   "name": "R",
   "pygments_lexer": "r",
   "version": "3.4.1"
  }
 },
 "nbformat": 4,
 "nbformat_minor": 2
}
