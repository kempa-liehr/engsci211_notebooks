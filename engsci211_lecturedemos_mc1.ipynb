{
 "cells": [
  {
   "cell_type": "markdown",
   "metadata": {},
   "source": [
    "# ENGSCI211 Lecture Demos - Multivariable Calculus - Space Curves"
   ]
  },
  {
   "cell_type": "code",
   "execution_count": 2,
   "metadata": {},
   "outputs": [],
   "source": [
    "from sourcecode_mc1 import*\n",
    "%matplotlib inline"
   ]
  },
  {
   "cell_type": "markdown",
   "metadata": {},
   "source": [
    "## Lecture Example 2.1\n",
    "\n",
    "An object's trajectory in 2D space can be written in $x$, $y$ coordinates as a function of time, $t$. In this case:\n",
    "$$\\vec{r}(t) = \\left( x(t), y(t) \\right) = \\left(t, t\\right)$$"
   ]
  },
  {
   "cell_type": "code",
   "execution_count": null,
   "metadata": {},
   "outputs": [],
   "source": [
    "interact(mc_example_2_1, \\\n",
    "         ts = fixed(0), \\\n",
    "         te = wid.FloatSlider(value=4., min=0.5, max=4., step=0.5, description='time end', continuous_update=False), \\\n",
    "         tstep = fixed(0.5));"
   ]
  },
  {
   "cell_type": "markdown",
   "metadata": {},
   "source": [
    "## Lecture Example 2.2"
   ]
  },
  {
   "cell_type": "code",
   "execution_count": null,
   "metadata": {},
   "outputs": [],
   "source": [
    "interact(mc_example_2_2, \\\n",
    "         ts = fixed(0), \\\n",
    "         te = wid.FloatSlider(value=2.*np.pi, min=0., max=2.*np.pi, step=0.05*np.pi, description='time end', continuous_update=False), \\\n",
    "         tstep = fixed(0.05*np.pi));"
   ]
  },
  {
   "cell_type": "markdown",
   "metadata": {},
   "source": [
    "## Lecture Example 2.3"
   ]
  },
  {
   "cell_type": "code",
   "execution_count": null,
   "metadata": {},
   "outputs": [],
   "source": [
    "interact(mc_example_2_3, \\\n",
    "         ts = fixed(0), \\\n",
    "         te = wid.FloatSlider(value=2.*np.pi, min=0., max=2.*np.pi, step=0.05*np.pi, description='time end', continuous_update=False), \\\n",
    "         tstep = fixed(0.05*np.pi));"
   ]
  },
  {
   "cell_type": "markdown",
   "metadata": {},
   "source": [
    "## Lecture Example 2.4"
   ]
  },
  {
   "cell_type": "code",
   "execution_count": null,
   "metadata": {},
   "outputs": [],
   "source": [
    "interact(mc_example_2_4, \\\n",
    "         ts = fixed(0), \\\n",
    "         te = wid.FloatSlider(value=2.*np.pi, min=0., max=2.*np.pi, step=0.05*np.pi, description='time end', continuous_update=False), \\\n",
    "         tstep = fixed(0.05*np.pi));"
   ]
  },
  {
   "cell_type": "markdown",
   "metadata": {},
   "source": [
    "## Lecture Example 2.5"
   ]
  },
  {
   "cell_type": "code",
   "execution_count": null,
   "metadata": {},
   "outputs": [],
   "source": [
    "interact(mc_example_2_5, \\\n",
    "         ts = fixed(0), \\\n",
    "         te = wid.FloatSlider(value=8., min=0., max=8., step=0.2, description='time end', continuous_update=False), \\\n",
    "         tstep = fixed(0.2));"
   ]
  },
  {
   "cell_type": "markdown",
   "metadata": {},
   "source": [
    "## Lecture Example 3.1"
   ]
  },
  {
   "cell_type": "code",
   "execution_count": null,
   "metadata": {
    "scrolled": false
   },
   "outputs": [],
   "source": [
    "interact(mc_example_3_1, \\\n",
    "         ts = fixed(0), \\\n",
    "         te = wid.FloatSlider(value=2.*np.pi, min=0., max=2.*np.pi, step=0.05*np.pi, description='time end', continuous_update=False), \\\n",
    "         tstep = fixed(0.05*np.pi));"
   ]
  },
  {
   "cell_type": "markdown",
   "metadata": {},
   "source": [
    "## Lecture Example 4.1\n",
    "\n",
    "The figure on the left shows the trajectory of the object, $\\vec{r}$, as a function of time, $t$. The right-hand plot shows the distance travelled by the object, $s$ as a function of time."
   ]
  },
  {
   "cell_type": "code",
   "execution_count": null,
   "metadata": {},
   "outputs": [],
   "source": [
    "interact(mc_example_4_1, \\\n",
    "         ts = fixed(0), \\\n",
    "         te = wid.FloatSlider(value=np.pi, min=0., max=np.pi, step=0.05*np.pi, description='time end', continuous_update=False), \\\n",
    "         tstep = fixed(0.05*np.pi));"
   ]
  },
  {
   "cell_type": "markdown",
   "metadata": {},
   "source": [
    "## Lecture Example 4.2"
   ]
  },
  {
   "cell_type": "code",
   "execution_count": null,
   "metadata": {},
   "outputs": [],
   "source": [
    "interact(mc_example_4_2, \\\n",
    "         ts = fixed(0), \\\n",
    "         te = wid.FloatSlider(value=np.pi, min=0., max=np.pi, step=0.05*np.pi, description='time end', continuous_update=False), \\\n",
    "         tstep = fixed(0.05*np.pi));"
   ]
  },
  {
   "cell_type": "markdown",
   "metadata": {},
   "source": [
    "## Arc Length Example\n",
    "\n",
    "The following trajectory has a speed equal to one i.e. it can be described as parameterised by arc length:\n",
    "$$\\vec{r}(t) = \\left( \\sin t, \\cos t \\right)$$"
   ]
  },
  {
   "cell_type": "code",
   "execution_count": null,
   "metadata": {},
   "outputs": [],
   "source": [
    "interact(mc_example_arclength, \\\n",
    "         ts = fixed(0), \\\n",
    "         te = wid.FloatSlider(value=np.pi, min=0., max=np.pi, step=0.05*np.pi, description='time end', continuous_update=False), \\\n",
    "         tstep = fixed(0.05*np.pi));"
   ]
  },
  {
   "cell_type": "markdown",
   "metadata": {},
   "source": [
    "## Lecture Example 5.1"
   ]
  },
  {
   "cell_type": "code",
   "execution_count": null,
   "metadata": {},
   "outputs": [],
   "source": [
    "interact(mc_example_5_1, \\\n",
    "         ts = fixed(0), \\\n",
    "         te = wid.FloatSlider(value=0.5*np.pi, min=0., max=np.pi, step=0.05*np.pi, description='time end', continuous_update=False), \\\n",
    "         tstep = fixed(0.05*np.pi));"
   ]
  },
  {
   "cell_type": "markdown",
   "metadata": {},
   "source": [
    "## Lecture Example 7.1"
   ]
  },
  {
   "cell_type": "code",
   "execution_count": 3,
   "metadata": {},
   "outputs": [
    {
     "data": {
      "application/vnd.jupyter.widget-view+json": {
       "model_id": "53c37033a22048be99b6619eeec591c0",
       "version_major": 2,
       "version_minor": 0
      },
      "text/plain": [
       "interactive(children=(FloatSlider(value=1.0, continuous_update=False, description='time end', max=1.0, step=0.…"
      ]
     },
     "metadata": {},
     "output_type": "display_data"
    }
   ],
   "source": [
    "interact(mc_example_7_1, \\\n",
    "         ts = fixed(0), \\\n",
    "         te = wid.FloatSlider(value=1.0, min=0., max=1., step=0.05, description='time end', continuous_update=False), \\\n",
    "         tstep = fixed(0.05));"
   ]
  },
  {
   "cell_type": "markdown",
   "metadata": {
    "collapsed": true
   },
   "source": [
    "## Lecture Example 7.3"
   ]
  },
  {
   "cell_type": "code",
   "execution_count": null,
   "metadata": {},
   "outputs": [],
   "source": [
    "mc_example_7_3()"
   ]
  },
  {
   "cell_type": "markdown",
   "metadata": {},
   "source": [
    "## Lecture Example 7.4"
   ]
  },
  {
   "cell_type": "code",
   "execution_count": null,
   "metadata": {},
   "outputs": [],
   "source": [
    "mc_example_7_4()"
   ]
  }
 ],
 "metadata": {
  "kernelspec": {
   "display_name": "Python 3",
   "language": "python",
   "name": "python3"
  },
  "language_info": {
   "codemirror_mode": {
    "name": "ipython",
    "version": 3
   },
   "file_extension": ".py",
   "mimetype": "text/x-python",
   "name": "python",
   "nbconvert_exporter": "python",
   "pygments_lexer": "ipython3",
   "version": "3.6.5"
  }
 },
 "nbformat": 4,
 "nbformat_minor": 2
}
