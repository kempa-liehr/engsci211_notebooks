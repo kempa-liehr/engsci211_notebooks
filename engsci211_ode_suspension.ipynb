{
 "cells": [
  {
   "cell_type": "markdown",
   "metadata": {},
   "source": [
    "# Damping\n",
    "A car suspension with body mass ($m$), damping coefficient ($c$), and spring constant ($k$) can be modelled using the following equation,\n",
    " \n",
    "$$ m\\frac{d^2 y}{dt^2} + c\\frac{dy}{dt} + ky = 0$$\n",
    "\n",
    "the characteristic equation can be written as,\n",
    "\n",
    "$$m\\lambda^2 + c\\lambda + k = 0$$\n",
    "\n",
    "$$\\lambda = \\frac{-c + \\sqrt{c^2-4mk}}{2m}$$\n",
    "\n",
    "Depending on the value of the determinant, the system exhibits different behaviours.\n",
    "\n",
    "Change the slider below to alter and damping coefficient ($c$) to see what happens to the behaviour of the suspension. Note critical damping occurs at a single value only. The values of $m$ and $k$ are both set to 1.\n"
   ]
  },
  {
   "cell_type": "code",
   "execution_count": 4,
   "metadata": {
    "scrolled": false
   },
   "outputs": [
    {
     "data": {
      "application/vnd.jupyter.widget-view+json": {
       "model_id": "7a375a57f90240e188e82fd91945df96",
       "version_major": 2,
       "version_minor": 0
      },
      "text/plain": [
       "A Jupyter Widget"
      ]
     },
     "metadata": {},
     "output_type": "display_data"
    },
    {
     "data": {
      "text/plain": [
       "<function __main__.plotter>"
      ]
     },
     "execution_count": 4,
     "metadata": {},
     "output_type": "execute_result"
    }
   ],
   "source": [
    "%matplotlib inline\n",
    "\n",
    "# import packages\n",
    "from matplotlib import pyplot as plt\n",
    "import numpy as np\n",
    "import time\n",
    "from scipy import integrate\n",
    "from ipywidgets import interact\n",
    "\n",
    "# define ODE\n",
    "def solvr(Y, t, m, c, k):\n",
    "    return [Y[1], -c*Y[1]-k*Y[0]/m]\n",
    "\n",
    "# define plot function\n",
    "def plotter(c):\n",
    "    f,ax = plt.subplots(1,1, figsize=(14,8))\n",
    "    init = [1, 0];\n",
    "    \n",
    "    m = 1;\n",
    "    k = 1;\n",
    "    \n",
    "    t = np.arange(0, 15.0, 0.01)\n",
    "    y = integrate.odeint(solvr, init , t, args=(m, c, k))\n",
    "    \n",
    "    ax.plot(t,y[:,0], color='b')\n",
    "    \n",
    "    plt.yticks(np.arange(-1.2, 1.3, 0.4))\n",
    "    plt.xlabel('t')\n",
    "    plt.ylabel('y')\n",
    "\n",
    "    if c*c > 4*m*k:\n",
    "        plt.title('y vs t: over-damping')\n",
    "    elif c*c == 4*m*k:\n",
    "        plt.title('y vs t: critical-damping')\n",
    "    elif c == 0:\n",
    "        plt.title('y vs t: no-damping')\n",
    "    else: \n",
    "        plt.title('y vs t: under-damping')\n",
    "        \n",
    "     \n",
    "    #ax.plot([t_i],y[1,0],marker='o', markersize=3, color=\"red\")\n",
    "    plt.show() \n",
    "    \n",
    "interact(plotter, c=(0,3,0.1))\n",
    "\n",
    "\n"
   ]
  },
  {
   "cell_type": "code",
   "execution_count": null,
   "metadata": {
    "collapsed": true
   },
   "outputs": [],
   "source": []
  }
 ],
 "metadata": {
  "kernelspec": {
   "display_name": "Python 3",
   "language": "python",
   "name": "python3"
  },
  "language_info": {
   "codemirror_mode": {
    "name": "ipython",
    "version": 3
   },
   "file_extension": ".py",
   "mimetype": "text/x-python",
   "name": "python",
   "nbconvert_exporter": "python",
   "pygments_lexer": "ipython3",
   "version": "3.5.4"
  },
  "widgets": {
   "state": {
    "1a835289261f444d904cda95c8e72a34": {
     "views": [
      {
       "cell_index": 1
      }
     ]
    }
   },
   "version": "1.2.0"
  }
 },
 "nbformat": 4,
 "nbformat_minor": 2
}
