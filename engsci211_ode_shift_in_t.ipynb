{
 "cells": [
  {
   "cell_type": "markdown",
   "metadata": {},
   "source": [
    "# Shift-in-t\n",
    "\n",
    "Similar to shift-in-s, shift-in-t could be also be applied in two ways, the forward way,\n",
    "\n",
    "$$\\mathcal{L}\\left[y(t-a)u(t-a)\\right] = Y(s)e^{-as}$$\n",
    "\n",
    "remember here $y(t-a)$ is multiplied by $u(t-a)$ because we want to make sure that the shifted function is 0 for $t<a$.\n",
    "\n",
    "For example,\n",
    "\n",
    "$$\\mathcal{L}\\left[e^{2t}\\right] = \\frac{1}{s-2}$$\n",
    "\n",
    "if $y(t)$ was shifted by $a$, then we would get the following,\n",
    "\n",
    "$$\\mathcal{L}\\left[e^{2(t-a)}u(t-a)\\right] = \\frac{e^{-as}}{s-2}$$\n",
    "\n",
    "This is the concept that we used in class to find the transform of shifted pulses. Though in the example covered in class we did not have to multiply a shifted unit step function to another shifted unit step function as they are by definition 0 for $t<a$.\n",
    "\n",
    "The inverse way invovles finding the inverse of a Laplace transform that contains an exponential term, e.g., \n",
    "\n",
    "$$\\mathcal{L}^{-1}\\left[\\frac{e^{-as}}{s-2}\\right]$$\n",
    "\n",
    "here if we ignore the exponential term we get $\\frac{1}{s-2}$, the inverse of which is $e^{2t}$. Now due to the presence of the exponential term in the Laplace transform we need to shift $e^{2t}$ by $a$, therefore the shifted time function is,\n",
    "\n",
    "$$e^{2(t-a)}$$,\n",
    "\n",
    "but remember this is not a unit step or dirac delta function, so we need to multiply this expression by a unit step function shifted by the same amount,\n",
    "\n",
    "$$\\mathcal{L}^{-1}\\left[\\frac{e^{-as}}{s-2}\\right] = e^{2(t-a)}u(t-a)$$\n",
    "\n",
    "This is how the inverse was identified in Worksheet Week 3 4(b).\n",
    "\n",
    "Shift the slider below to show what happens to the laplace transform as its inverse (the time function) is shifted (black lines). The unshifted Laplace transform and time functoin are shown in red. Note what happens the value of the shifted time function when $t<a$.\n"
   ]
  },
  {
   "cell_type": "code",
   "execution_count": null,
   "metadata": {},
   "outputs": [],
   "source": [
    "%matplotlib inline\n",
    "\n",
    "# import packages\n",
    "from matplotlib import pyplot as plt\n",
    "import numpy as np\n",
    "import time\n",
    "\n",
    "from scipy import integrate\n",
    "\n",
    "from ipywidgets import interact\n",
    "\n",
    "# define plot function\n",
    "def plotter(a):\n",
    "      \n",
    "    # dt, time\n",
    "    m = 101;\n",
    "    t_0 = np.linspace(0, 2, m)\n",
    "    #t = np.linspace(0+a, 2, m)\n",
    "    t = np.linspace(0, 2, m)\n",
    "    s = np.linspace(2.1, 4, m)\n",
    "       \n",
    "    # solution loop\n",
    "    y_0 = np.zeros(m) \n",
    "    y = np.zeros(m) \n",
    "    Y_0 = np.zeros(m);\n",
    "    Y = np.zeros(m);\n",
    "    \n",
    "    for i in range(0,len(t)):\n",
    "        y_0[i] = np.exp(2*t_0[i])\n",
    "        if t[i]>=a:\n",
    "            y[i] = np.exp(2*(t[i]-a))\n",
    "        Y_0[i] = 1/(s[i]-2)\n",
    "        Y[i] = np.exp(a*s[i])/(s[i]-2)\n",
    "        \n",
    "    f,ax = plt.subplots(1,1, figsize=(14,3))\n",
    "    ax.plot(t_0, y_0, 'r', label='y(t)')\n",
    "    ax.plot(t, y, 'k', label='y(t)u(t-a)')\n",
    "    ax.legend(loc='upper left', shadow=False)\n",
    "    plt.title('y vs t')\n",
    "    plt.xlabel('t')\n",
    "    plt.ylabel('y') \n",
    "\n",
    "    f,ax2 = plt.subplots(1,1, figsize=(14,3))\n",
    "    ax2.plot(s, Y_0, 'r', label='Y(s)')\n",
    "    ax2.plot(s, Y, 'k', label='$Y(s)e^{-as}$')\n",
    "    ax2.legend(loc='upper right', shadow=False)\n",
    "    plt.title('Y vs s')\n",
    "    plt.xlabel('s')\n",
    "    plt.ylabel('Y') \n",
    "    \n",
    "    plt.show() \n",
    "    \n",
    "interact(plotter, a =(0,1,.1))"
   ]
  },
  {
   "cell_type": "code",
   "execution_count": null,
   "metadata": {},
   "outputs": [],
   "source": []
  }
 ],
 "metadata": {
  "kernelspec": {
   "display_name": "Python 3",
   "language": "python",
   "name": "python3"
  },
  "language_info": {
   "codemirror_mode": {
    "name": "ipython",
    "version": 3
   },
   "file_extension": ".py",
   "mimetype": "text/x-python",
   "name": "python",
   "nbconvert_exporter": "python",
   "pygments_lexer": "ipython3",
   "version": "3.5.4"
  },
  "widgets": {
   "state": {
    "dde1e68771504a9bb20dab5325cd46d3": {
     "views": [
      {
       "cell_index": 1
      }
     ]
    }
   },
   "version": "1.2.0"
  }
 },
 "nbformat": 4,
 "nbformat_minor": 2
}
