{
 "cells": [
  {
   "cell_type": "markdown",
   "metadata": {},
   "source": [
    "# Shift-in-s\n",
    "\n",
    "Shift-in-s and inversion can be applied in two ways (forwad and inverse), the first way (forward) is to transform a time function mutiplied by an exponential term, e.g.,\n",
    "\n",
    "$$y(t) = te^{3t}$$\n",
    "\n",
    "At first glance we do not know the transform of expression, but if we ignore the exponential term, we are left with t, and we know that the Laplace transform of t is,\n",
    "\n",
    "$$\\mathcal{L}\\left[t\\right] = \\frac{1}{s^2}$$\n",
    "\n",
    "from shift-in-s we also know that by multiplying t with $e^{3t}$ shifts the Laplace transform of $t$, i.e., $\\frac{1}{s^2}$ by 3. Therefore, \n",
    "\n",
    "$$\\mathcal{L}\\left[e^{at}y(t)\\right]=Y(s-a)$$, \n",
    "\n",
    "$$\\mathcal{L}\\left[e^{3t}t\\right] = \\frac{1}{(s-3)^2}$$\n",
    "\n",
    "The second way (inverse) is to identify the inverse of a shifted Laplace transform,\n",
    "\n",
    "$$\\mathcal{L}^{-1}\\left[\\frac{1}{(s-3)^2}\\right]$$\n",
    "\n",
    "First we need to workout the 'unshifted version' of the transform, which is $\\frac{1}{s^2}$, and we know the inverse of this expression is $t$. Therefore,\n",
    "\n",
    "$$\\mathcal{L}^{-1}\\left[\\frac{1}{(s-3)^2}\\right] = te^{3t}$$\n",
    "\n",
    "Shift the slider below to show what happens to the time function as its Laplace transform is shifted (black lines). The unshifted Laplace transform and time functoin are shown in red."
   ]
  },
  {
   "cell_type": "code",
   "execution_count": null,
   "metadata": {},
   "outputs": [],
   "source": [
    "%matplotlib inline\n",
    "\n",
    "# import packages\n",
    "from matplotlib import pyplot as plt\n",
    "import numpy as np\n",
    "import time\n",
    "\n",
    "from scipy import integrate\n",
    "\n",
    "from ipywidgets import interact\n",
    "\n",
    "# define plot function\n",
    "def plotter(a):\n",
    "      \n",
    "    # dt, time\n",
    "    m = 101;\n",
    "    t = np.linspace(0, 1, m)\n",
    "    s_0 = np.linspace(0.1, 2, m)\n",
    "    s = np.linspace(0.1+a, 2, m)\n",
    "    \n",
    "    # solution loop\n",
    "    y_0 = np.zeros(m) \n",
    "    y = np.zeros(m) \n",
    "    Y_0 = np.zeros(m);\n",
    "    Y = np.zeros(m);\n",
    "    \n",
    "    for i in range(0,len(t)):\n",
    "        y_0[i] = t[i]\n",
    "        y[i] = t[i]*np.exp(a*t[i])\n",
    "        Y_0[i] = 1/((s_0[i])*(s_0[i]))\n",
    "        Y[i] = 1/((s[i]-a)*(s[i]-a)) \n",
    "\n",
    "    \n",
    "    #plt.subplot(2, 1, 1)\n",
    "    \n",
    "    f,ax = plt.subplots(1,1, figsize=(14,3))\n",
    "    \n",
    "    ax.plot(t, y_0, 'r', label='y(t)')\n",
    "    ax.plot(t, y, 'k', label='$e^{at}y(t)$')\n",
    "    legend = ax.legend(loc='upper left', shadow=False)\n",
    "    \n",
    "    plt.title('y vs t')\n",
    "    plt.xlabel('t')\n",
    "    plt.ylabel('y') \n",
    "\n",
    "    #plt.subplot(2, 1, 2)\n",
    "    \n",
    "    f,ax2 = plt.subplots(1,1, figsize=(14,3))\n",
    "    ax2.plot(s_0, Y_0, 'r', label='Y(s)')\n",
    "    ax2.plot(s, Y, 'k', label='Y(s-a)')\n",
    "    legend = ax2.legend(loc='upper right', shadow=False)\n",
    "    plt.title('Y vs s')\n",
    "    plt.xlabel('s')\n",
    "    plt.ylabel('Y') \n",
    "    \n",
    "    plt.show() \n",
    "    \n",
    "interact(plotter, a =(0,1,.1))"
   ]
  },
  {
   "cell_type": "code",
   "execution_count": null,
   "metadata": {},
   "outputs": [],
   "source": []
  }
 ],
 "metadata": {
  "kernelspec": {
   "display_name": "Python 3",
   "language": "python",
   "name": "python3"
  },
  "language_info": {
   "codemirror_mode": {
    "name": "ipython",
    "version": 3
   },
   "file_extension": ".py",
   "mimetype": "text/x-python",
   "name": "python",
   "nbconvert_exporter": "python",
   "pygments_lexer": "ipython3",
   "version": "3.5.4"
  },
  "widgets": {
   "state": {
    "3e95a49c1e7947d9a7027b2a8b4e0398": {
     "views": [
      {
       "cell_index": 1
      }
     ]
    }
   },
   "version": "1.2.0"
  }
 },
 "nbformat": 4,
 "nbformat_minor": 2
}
