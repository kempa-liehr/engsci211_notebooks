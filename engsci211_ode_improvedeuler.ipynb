{
 "cells": [
  {
   "cell_type": "markdown",
   "metadata": {},
   "source": [
    "# Improved Euler Method\n",
    "The improved Euler method works by assuming the gradient of a solution, $y'=f(n,y_n)$ can be approximated by the average of gradients at $t_n, y_n$ and $t_{n+1}, y^*_{n+1}$. In order to estimate the gradient at $t_{n+1}, y^*_{n+1}$, it first estimates $y^*_{n+1}$ by an Euler step (also known as the predictor step),\n",
    "\n",
    "$$ y*_{n+1} = y_n+\\Delta t \\; f(t_n,y_n)$$\n",
    "\n",
    "and then take the corrector step,\n",
    "\n",
    "$$ y_{n+1} = y_n + \\Delta t \\; \\frac{f(t_n,y_n) + f^*(t_{n+1},y^*_{n+1})}{2}$$\n",
    "\n",
    "\n",
    "The example below shows the improved Euler method solution for $y'=y+t$, change the slider to increase the number of solution points (thereby decreasing $\\Delta t$) and watch what happens to the root-mean-square (RMS) error of the numerical solution compared to the analytic solution. Also take note of the RMS error at the same step-size compared to the Euler method example."
   ]
  },
  {
   "cell_type": "code",
   "execution_count": 3,
   "metadata": {},
   "outputs": [
    {
     "data": {
      "application/vnd.jupyter.widget-view+json": {
       "model_id": "e6cf73ec060b4b9f9f3fbdce808573b9",
       "version_major": 2,
       "version_minor": 0
      },
      "text/plain": [
       "A Jupyter Widget"
      ]
     },
     "metadata": {},
     "output_type": "display_data"
    },
    {
     "data": {
      "text/plain": [
       "<function __main__.plotter>"
      ]
     },
     "execution_count": 3,
     "metadata": {},
     "output_type": "execute_result"
    }
   ],
   "source": [
    "%matplotlib inline\n",
    "\n",
    "# import packages\n",
    "from matplotlib import pyplot as plt\n",
    "import numpy as np\n",
    "import time\n",
    "from scipy import integrate\n",
    "from ipywidgets import interact\n",
    "\n",
    "# define ODE\n",
    "def ode(y, t):\n",
    "    return y+t\n",
    "\n",
    "# define plot function\n",
    "def plotter(n):\n",
    "      \n",
    "    # dt, time\n",
    "    dt = 1/(n-1);\n",
    "    t = np.linspace(0, 1, n)\n",
    "\n",
    "    # solution loop\n",
    "    y = np.zeros([n])\n",
    "    y_a = y;\n",
    "    y[0] = 0;\n",
    "    err = 0;\n",
    "    \n",
    "    for i in range(1,n):\n",
    "        f_e = ode(y[i-1],t[i-1])\n",
    "        y_e = y[i-1]+dt*f_e\n",
    "        y[i] = y[i-1]+dt*(ode(y_e,t[i])+f_e)/2\n",
    "        y[i] = y[i-1]+dt*ode(y[i-1],t[i-1])\n",
    "        err = err+(abs(y[i]-(np.exp(t[i])-t[i]-1)))**2\n",
    "    \n",
    "    err = (err/n)**0.5;\n",
    "    \n",
    "    #analytic solution\n",
    "    t_a = np.linspace(0,1,101)\n",
    "    y_a = np.zeros(len(t_a))\n",
    "    for j in range(1,len(t_a)):\n",
    "        y_a[j] = np.exp(t_a[j])-t_a[j]-1\n",
    "        \n",
    "    f,ax = plt.subplots(1,1, figsize=(14,8))\n",
    "    \n",
    "    ax.plot(t_a,y_a, color='b', label='Analytic')\n",
    "    ax.plot(t,y, 'o',color='r', label='Imp. Euler')\n",
    "    plt.title('RMS error %.4f'%err)\n",
    "    legend = ax.legend(loc='upper left', shadow=False)\n",
    "    \n",
    "    #plt.yticks(np.arange(-1.2, 1.3, 0.4))\n",
    "    plt.xlabel('t')\n",
    "    plt.ylabel('y')\n",
    "\n",
    "    #ax.plot([t_i],y[1,0],marker='o', markersize=3, color=\"red\")\n",
    "    plt.show() \n",
    "    \n",
    "interact(plotter, n =(2,21,1))"
   ]
  },
  {
   "cell_type": "code",
   "execution_count": null,
   "metadata": {
    "collapsed": true
   },
   "outputs": [],
   "source": []
  }
 ],
 "metadata": {
  "kernelspec": {
   "display_name": "Python 3",
   "language": "python",
   "name": "python3"
  },
  "language_info": {
   "codemirror_mode": {
    "name": "ipython",
    "version": 3
   },
   "file_extension": ".py",
   "mimetype": "text/x-python",
   "name": "python",
   "nbconvert_exporter": "python",
   "pygments_lexer": "ipython3",
   "version": "3.5.4"
  },
  "widgets": {
   "state": {
    "328ef2ea84bc40599d61d4d5a00fede0": {
     "views": [
      {
       "cell_index": 0
      }
     ]
    }
   },
   "version": "1.2.0"
  }
 },
 "nbformat": 4,
 "nbformat_minor": 2
}
