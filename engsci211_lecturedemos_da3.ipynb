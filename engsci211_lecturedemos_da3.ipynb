{
 "cells": [
  {
   "cell_type": "markdown",
   "metadata": {
    "collapsed": true
   },
   "source": [
    "## Block 3 - Multiplicative Models"
   ]
  },
  {
   "cell_type": "code",
   "execution_count": null,
   "metadata": {},
   "outputs": [],
   "source": [
    "# install and load necessary libraries\n",
    "install.packages(\"s20x\")\n",
    "library(s20x)\n",
    "library(repr)\n",
    "options(repr.plot.width=8, repr.plot.height=6)"
   ]
  },
  {
   "cell_type": "code",
   "execution_count": null,
   "metadata": {},
   "outputs": [],
   "source": [
    "# slide 4\n",
    "data(mazda.df)\n",
    "hist(mazda.df$price, main = \"mazda price\")"
   ]
  },
  {
   "cell_type": "code",
   "execution_count": null,
   "metadata": {},
   "outputs": [],
   "source": [
    "# slide 5\n",
    "summary(mazda.df$price)"
   ]
  },
  {
   "cell_type": "code",
   "execution_count": null,
   "metadata": {},
   "outputs": [],
   "source": [
    "# slide 7\n",
    "mazdaNull.fit = lm(price ~ 1, data = mazda.df)\n",
    "summary(mazdaNull.fit)\n",
    "confint(mazdaNull.fit)"
   ]
  },
  {
   "cell_type": "code",
   "execution_count": null,
   "metadata": {},
   "outputs": [],
   "source": [
    "# slides 11-12\n",
    "layout20x(1, 2)\n",
    "hist(mazda.df$price, main = \"mazda price\")\n",
    "hist(log(mazda.df$price), main = \"Log of mazda price\")"
   ]
  },
  {
   "cell_type": "code",
   "execution_count": null,
   "metadata": {},
   "outputs": [],
   "source": [
    "# slide 13\n",
    "summary(mazda.df$price)\n",
    "summary(log(mazda.df$price))\n",
    "options(digits = 3) #Reduce number of decimal places\n",
    "summary(log(mazda.df$price))\n",
    "log(summary(mazda.df$price))"
   ]
  },
  {
   "cell_type": "code",
   "execution_count": null,
   "metadata": {},
   "outputs": [],
   "source": [
    "# slide 17\n",
    "LoggedmazdaNull.fit = lm(log(price) ~ 1, data = mazda.df)\n",
    "summary(LoggedmazdaNull.fit)"
   ]
  },
  {
   "cell_type": "code",
   "execution_count": null,
   "metadata": {},
   "outputs": [],
   "source": [
    "# slides 17-18\n",
    "confint(LoggedmazdaNull.fit)\n",
    "exp(confint(LoggedmazdaNull.fit))"
   ]
  },
  {
   "cell_type": "code",
   "execution_count": null,
   "metadata": {},
   "outputs": [],
   "source": [
    "# slide 21\n",
    "# create the new variable age\n",
    "mazda.df = within(mazda.df, {age = 91 - year})\n",
    "#plot these data\n",
    "trendscatter(price ~ age, data = mazda.df, main = \"\")"
   ]
  },
  {
   "cell_type": "code",
   "execution_count": null,
   "metadata": {},
   "outputs": [],
   "source": [
    "# slide 22\n",
    "PriceAge.fit = lm(price ~ age, data = mazda.df)\n",
    "eovcheck(PriceAge.fit)"
   ]
  },
  {
   "cell_type": "code",
   "execution_count": null,
   "metadata": {},
   "outputs": [],
   "source": [
    "# slide 23\n",
    "PriceAge.fit2 = lm(price ~ age + I(age^2), data = mazda.df)\n",
    "eovcheck(PriceAge.fit2)"
   ]
  },
  {
   "cell_type": "code",
   "execution_count": null,
   "metadata": {},
   "outputs": [],
   "source": [
    "# slide 24\n",
    "# plot these data\n",
    "trendscatter(log(price) ~ age, data = mazda.df, main = \"\")"
   ]
  },
  {
   "cell_type": "code",
   "execution_count": null,
   "metadata": {},
   "outputs": [],
   "source": [
    "# slide 25\n",
    "LogPriceAge.fit = lm(log(price) ~ age, data = mazda.df)\n",
    "eovcheck(LogPriceAge.fit)"
   ]
  },
  {
   "cell_type": "code",
   "execution_count": null,
   "metadata": {},
   "outputs": [],
   "source": [
    "# slide 26\n",
    "normcheck(LogPriceAge.fit)"
   ]
  },
  {
   "cell_type": "code",
   "execution_count": null,
   "metadata": {
    "scrolled": false
   },
   "outputs": [],
   "source": [
    "# slide 27\n",
    "cooks20x(LogPriceAge.fit)"
   ]
  },
  {
   "cell_type": "code",
   "execution_count": null,
   "metadata": {},
   "outputs": [],
   "source": [
    "# slide 28\n",
    "summary(LogPriceAge.fit)\n",
    "confint(LogPriceAge.fit)"
   ]
  },
  {
   "cell_type": "code",
   "execution_count": null,
   "metadata": {},
   "outputs": [],
   "source": [
    "# slide 31\n",
    "options(digits = 5) #Control number of decimal places\n",
    "exp(confint(LogPriceAge.fit))"
   ]
  },
  {
   "cell_type": "code",
   "execution_count": null,
   "metadata": {},
   "outputs": [],
   "source": [
    "# slide 32\n",
    "exp(summary(LogPriceAge.fit)$coef[2, 1])"
   ]
  }
 ],
 "metadata": {
  "kernelspec": {
   "display_name": "R",
   "language": "R",
   "name": "r"
  },
  "language_info": {
   "codemirror_mode": "r",
   "file_extension": ".r",
   "mimetype": "text/x-r-source",
   "name": "R",
   "pygments_lexer": "r",
   "version": "3.3.3"
  }
 },
 "nbformat": 4,
 "nbformat_minor": 2
}
