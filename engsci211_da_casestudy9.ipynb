{
 "cells": [
  {
   "cell_type": "markdown",
   "metadata": {},
   "source": [
    "# Case Study 9. Fire Damage"
   ]
  },
  {
   "cell_type": "markdown",
   "metadata": {},
   "source": [
    "An insurance company wants to predict the damage (in \\$000's) to a home\n",
    "in a particular area if a fire occurs. The damage, and distance from the\n",
    "fire station were recorded for a random sample of 15 house fires in the\n",
    "area of interest. They were also particularly interested in predicting\n",
    "the fire damage to houses that are 1 and 4 miles from the fire station.\n",
    "\n",
    "The variables measured were:\n",
    "\\begin{align*}\n",
    "  \\texttt{damage} &\\quad\\quad \\textrm{damage (in thousands of dollars)} \\\\\n",
    "  \\texttt{distance} &\\quad\\quad \\textrm{distance from the fire station (in miles)}\n",
    "\\end{align*}\n",
    "\n",
    "This dataset is available in the $\\texttt{s20x}$ package."
   ]
  },
  {
   "cell_type": "code",
   "execution_count": 1,
   "metadata": {},
   "outputs": [
    {
     "name": "stderr",
     "output_type": "stream",
     "text": [
      "Installing package into '/home/nbuser/R'\n",
      "(as 'lib' is unspecified)\n"
     ]
    }
   ],
   "source": [
    "install.packages(\"s20x\")\n",
    "library(s20x)\n",
    "library(repr)\n",
    "options(repr.plot.width=8, repr.plot.height=6)"
   ]
  },
  {
   "cell_type": "code",
   "execution_count": 4,
   "metadata": {},
   "outputs": [
    {
     "data": {
      "text/html": [
       "<table>\n",
       "<thead><tr><th scope=col>distance</th><th scope=col>damage</th></tr></thead>\n",
       "<tbody>\n",
       "\t<tr><td>3.4 </td><td>26.2</td></tr>\n",
       "\t<tr><td>2.6 </td><td>19.6</td></tr>\n",
       "\t<tr><td>1.8 </td><td>17.8</td></tr>\n",
       "\t<tr><td>4.3 </td><td>31.3</td></tr>\n",
       "\t<tr><td>4.6 </td><td>31.3</td></tr>\n",
       "\t<tr><td>2.1 </td><td>24.0</td></tr>\n",
       "\t<tr><td>2.3 </td><td>23.1</td></tr>\n",
       "\t<tr><td>1.1 </td><td>17.3</td></tr>\n",
       "\t<tr><td>3.1 </td><td>27.5</td></tr>\n",
       "\t<tr><td>6.1 </td><td>43.2</td></tr>\n",
       "\t<tr><td>5.5 </td><td>36.0</td></tr>\n",
       "\t<tr><td>4.8 </td><td>36.4</td></tr>\n",
       "\t<tr><td>0.7 </td><td>14.1</td></tr>\n",
       "\t<tr><td>3.8 </td><td>26.1</td></tr>\n",
       "\t<tr><td>3.0 </td><td>22.3</td></tr>\n",
       "</tbody>\n",
       "</table>\n"
      ],
      "text/latex": [
       "\\begin{tabular}{r|ll}\n",
       " distance & damage\\\\\n",
       "\\hline\n",
       "\t 3.4  & 26.2\\\\\n",
       "\t 2.6  & 19.6\\\\\n",
       "\t 1.8  & 17.8\\\\\n",
       "\t 4.3  & 31.3\\\\\n",
       "\t 4.6  & 31.3\\\\\n",
       "\t 2.1  & 24.0\\\\\n",
       "\t 2.3  & 23.1\\\\\n",
       "\t 1.1  & 17.3\\\\\n",
       "\t 3.1  & 27.5\\\\\n",
       "\t 6.1  & 43.2\\\\\n",
       "\t 5.5  & 36.0\\\\\n",
       "\t 4.8  & 36.4\\\\\n",
       "\t 0.7  & 14.1\\\\\n",
       "\t 3.8  & 26.1\\\\\n",
       "\t 3.0  & 22.3\\\\\n",
       "\\end{tabular}\n"
      ],
      "text/markdown": [
       "\n",
       "distance | damage | \n",
       "|---|---|---|---|---|---|---|---|---|---|---|---|---|---|---|\n",
       "| 3.4  | 26.2 | \n",
       "| 2.6  | 19.6 | \n",
       "| 1.8  | 17.8 | \n",
       "| 4.3  | 31.3 | \n",
       "| 4.6  | 31.3 | \n",
       "| 2.1  | 24.0 | \n",
       "| 2.3  | 23.1 | \n",
       "| 1.1  | 17.3 | \n",
       "| 3.1  | 27.5 | \n",
       "| 6.1  | 43.2 | \n",
       "| 5.5  | 36.0 | \n",
       "| 4.8  | 36.4 | \n",
       "| 0.7  | 14.1 | \n",
       "| 3.8  | 26.1 | \n",
       "| 3.0  | 22.3 | \n",
       "\n",
       "\n"
      ],
      "text/plain": [
       "   distance damage\n",
       "1  3.4      26.2  \n",
       "2  2.6      19.6  \n",
       "3  1.8      17.8  \n",
       "4  4.3      31.3  \n",
       "5  4.6      31.3  \n",
       "6  2.1      24.0  \n",
       "7  2.3      23.1  \n",
       "8  1.1      17.3  \n",
       "9  3.1      27.5  \n",
       "10 6.1      43.2  \n",
       "11 5.5      36.0  \n",
       "12 4.8      36.4  \n",
       "13 0.7      14.1  \n",
       "14 3.8      26.1  \n",
       "15 3.0      22.3  "
      ]
     },
     "metadata": {},
     "output_type": "display_data"
    }
   ],
   "source": [
    "data(fire.df)\n",
    "fire.df\n",
    "#head(fire.df, 5)"
   ]
  },
  {
   "cell_type": "code",
   "execution_count": 5,
   "metadata": {},
   "outputs": [
    {
     "data": {
      "image/png": "[encoded data removed]"
     },
     "metadata": {},
     "output_type": "display_data"
    }
   ],
   "source": [
    "plot(damage ~ distance, main = \"Damage versus distance\", data = fire.df)"
   ]
  },
  {
   "cell_type": "code",
   "execution_count": 7,
   "metadata": {},
   "outputs": [
    {
     "data": {
      "text/plain": [
       "\n",
       "Call:\n",
       "lm(formula = damage ~ distance, data = fire.df)\n",
       "\n",
       "Residuals:\n",
       "    Min      1Q  Median      3Q     Max \n",
       "-3.4682 -1.4705 -0.1311  1.7915  3.3915 \n",
       "\n",
       "Coefficients:\n",
       "            Estimate Std. Error t value Pr(>|t|)    \n",
       "(Intercept)  10.2779     1.4203   7.237 6.59e-06 ***\n",
       "distance      4.9193     0.3927  12.525 1.25e-08 ***\n",
       "---\n",
       "Signif. codes:  0 '***' 0.001 '**' 0.01 '*' 0.05 '.' 0.1 ' ' 1\n",
       "\n",
       "Residual standard error: 2.316 on 13 degrees of freedom\n",
       "Multiple R-squared:  0.9235,\tAdjusted R-squared:  0.9176 \n",
       "F-statistic: 156.9 on 1 and 13 DF,  p-value: 1.248e-08\n"
      ]
     },
     "metadata": {},
     "output_type": "display_data"
    }
   ],
   "source": [
    "# fit the model\n",
    "fire.fit = lm(damage ~ distance, data = fire.df)\n",
    "summary(fire.fit)"
   ]
  },
  {
   "cell_type": "code",
   "execution_count": null,
   "metadata": {
    "collapsed": true
   },
   "outputs": [],
   "source": [
    "eovcheck(fire.fit)"
   ]
  },
  {
   "cell_type": "code",
   "execution_count": 8,
   "metadata": {},
   "outputs": [
    {
     "data": {
      "image/png": "[encoded data removed]"
     },
     "metadata": {},
     "output_type": "display_data"
    }
   ],
   "source": [
    "# Alternative to eovcheck (adds trendscatter)\n",
    "plot(fire.fit, which = 1)"
   ]
  },
  {
   "cell_type": "code",
   "execution_count": null,
   "metadata": {
    "collapsed": true
   },
   "outputs": [],
   "source": [
    "# Can also do eovcheck(fire.fit, smoother = TRUE) but the line isn't as visible\n",
    "normcheck(fire.fit)"
   ]
  },
  {
   "cell_type": "code",
   "execution_count": null,
   "metadata": {
    "collapsed": true
   },
   "outputs": [],
   "source": [
    "cooks20x(fire.fit)"
   ]
  },
  {
   "cell_type": "code",
   "execution_count": null,
   "metadata": {
    "collapsed": true
   },
   "outputs": [],
   "source": [
    "# Get summary output and confidence intervals\n",
    "summary(fire.fit)"
   ]
  },
  {
   "cell_type": "code",
   "execution_count": null,
   "metadata": {
    "collapsed": true
   },
   "outputs": [],
   "source": [
    "confint(fire.fit)"
   ]
  },
  {
   "cell_type": "code",
   "execution_count": null,
   "metadata": {
    "collapsed": true
   },
   "outputs": [],
   "source": [
    "# Check for effect of dropping observation 10\n",
    "fire.fit2 <- lm(damage ~ distance, data = fire.df[-10, ])\n",
    "summary(fire.fit2)"
   ]
  },
  {
   "cell_type": "code",
   "execution_count": null,
   "metadata": {
    "collapsed": true
   },
   "outputs": [],
   "source": [
    "# Predictions Create a data frame with x-values of interest.\n",
    "pred.df = data.frame(distance = c(1, 4))\n",
    "# Want to predict damage of INDIVIDUAL HOUSES, so use prediction intervals.\n",
    "predict(fire.fit, pred.df, interval = \"prediction\")"
   ]
  },
  {
   "cell_type": "markdown",
   "metadata": {},
   "source": [
    "## Method and Assumption Checks\n",
    "\n",
    "A scatter plot of damage vs distance showed a linear association with\n",
    "approximately constant scatter and so a linear model was fitted.\n",
    "\n",
    "The equality of variance, normality and linearity assumptions appear to\n",
    "be satisfied - a slight trend in the residual plot was observed, but\n",
    "does not appear to be of major concern. We have a random sample of fires\n",
    "so the results should be independent of each other.\n",
    "\n",
    "Observation 10 showed up of concern in the Cooks plot but deleting it\n",
    "does not change either coefficient by more than 1 standard error so we\n",
    "retained the observation. (For $\\beta_1$ the coefficient changes from\n",
    "4.9193 to 4.5841; a drop of 0.335 compared to a standard error of\n",
    "0.3927.) Even if the change was slightly more, the change isn't huge and\n",
    "there is no reason to doubt the validity of the data point and the\n",
    "sample size is small, so we'd likely retain the observation. (Rules of\n",
    "thumb aren't set in stone.)\n",
    "\n",
    "Our final model is\n",
    "${\\tt damage}_i=\\beta_0 +\\beta_1\\times {\\tt distance}_i+\\varepsilon_i$\n",
    "where $\\varepsilon_i \\overset{\\text{iid}}{\\sim} N(0,\\sigma^2)$."
   ]
  },
  {
   "cell_type": "markdown",
   "metadata": {},
   "source": [
    "## Executive Summary\n",
    "\n",
    "An insurance company wanted to be able to predict the amount of damage\n",
    "that occurs when a house catches fire. The distance from the fire\n",
    "station is used to predict the damage.\n",
    "\n",
    "We find that the further a house is away from a fire station the more\n",
    "fire damage it suffers.\n",
    "\n",
    "We estimate that if a house next to a fire station catches fire, the\n",
    "mean fire damage will be between \\$7,200 and \\$13,300. We estimate that\n",
    "for each additional mile from the fire station, the mean fire damage\n",
    "increases by between \\$4,100 and \\$5,800.\n",
    "\n",
    "Our model explains 92% of the variation in house fire damage and should\n",
    "therefore be a reasonable model for prediction.\n",
    "\n",
    "Using our model, we predict that if a new fire occurs in a house that is\n",
    "1 mile from the fire station, the damage will be between \\$9,700 and\n",
    "\\$20,700. For a house that is 4 miles from the fire station, we predict\n",
    "the damage will be between \\$24,800 and \\$35,200."
   ]
  }
 ],
 "metadata": {
  "kernelspec": {
   "display_name": "R",
   "language": "R",
   "name": "r"
  },
  "language_info": {
   "codemirror_mode": "r",
   "file_extension": ".r",
   "mimetype": "text/x-r-source",
   "name": "R",
   "pygments_lexer": "r",
   "version": "3.3.3"
  }
 },
 "nbformat": 4,
 "nbformat_minor": 2
}
