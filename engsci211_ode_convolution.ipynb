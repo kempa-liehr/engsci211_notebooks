{
 "cells": [
  {
   "cell_type": "markdown",
   "metadata": {},
   "source": [
    "# Convolution\n",
    "\n",
    "Convolution (and integration) can be used to find the inverse of the product of two Laplace transforms, though generally speaking you should always try partial fractions first before attempting convolution!\n",
    "\n",
    "For example, to find the inverse of the following transform using convolution,\n",
    "\n",
    "$$\\mathcal{L}^{-1}\\left[\\frac{1}{s^2}\\frac{s}{s^2+1}\\right]$$\n",
    "\n",
    "the inverse of each term in the Laplace transform is,\n",
    "\n",
    "$$\\mathcal{L}^{-1}\\left[\\frac{1}{s^2}\\right] = t$$\n",
    "\n",
    "$$\\mathcal{L}^{-1}\\left[\\frac{s}{s^2+1}\\right] = \\sin(t)$$\n",
    "\n",
    "so the inverse is the convolution of the above two time functions,\n",
    "\n",
    "$$\\mathcal{L}^{-1}\\left[\\frac{1}{s^2}\\frac{s}{s^2+1}\\right] = t*\\sin(t)$$\n",
    "\n",
    "$$t*\\sin(t) = \\int_{0}^{t} (t-\\tau)\\sin(\\tau) d\\tau$$\n",
    "$$= t\\int_{0}^{t} \\sin(\\tau) d\\tau - \\int_{0}^{t}\\tau \\sin(\\tau) d\\tau$$\n",
    "$$= t \\left[-\\cos(\\tau)\\right]^t_0 + \\left[\\tau \\cos(\\tau)\\right]^t_0 - \\int_{0}^{t} \\cos(\\tau) d\\tau$$\n",
    "$$= t \\left[-\\cos(\\tau)\\right]^t_0 + \\left[\\tau \\cos(\\tau)\\right]^t_0 - \\left[\\sin(\\tau)\\right]^t_0$$\n",
    "$$= t - \\sin(t)$$\n",
    "\n",
    "Shift the slider below to see the convolution of the two functions (blue line). In this case we are shifting $t$ instead of $\\sin(t)$.\n"
   ]
  },
  {
   "cell_type": "code",
   "execution_count": null,
   "metadata": {},
   "outputs": [],
   "source": [
    "%matplotlib inline\n",
    "\n",
    "# import packages\n",
    "from matplotlib import pyplot as plt\n",
    "import numpy as np\n",
    "import time\n",
    "\n",
    "from scipy import integrate\n",
    "\n",
    "from ipywidgets import interact\n",
    "\n",
    "# define plot function\n",
    "def plotter(a):\n",
    "      \n",
    "    # dt, time\n",
    "    m = 101;\n",
    "    t_0 = np.linspace(0, 8, m) \n",
    "    t = np.linspace(0, a, m)\n",
    "    \n",
    "    # solution loop\n",
    "    y_0 = np.zeros(m) \n",
    "    y = np.zeros(m) \n",
    "    Y = np.zeros(m);\n",
    "    \n",
    "    for i in range(0,len(t)):\n",
    "        y_0[i] = t_0[i]-a\n",
    "        y[i] = np.sin(t_0[i])\n",
    "        Y[i] = t[i]-np.sin(t[i])\n",
    "              \n",
    "    f,ax = plt.subplots(1,1, figsize=(14,3))\n",
    "    ax.plot(t_0, y_0, 'r', label='t')\n",
    "    ax.plot(t_0, y, 'k', label='sin(t)')\n",
    "    legend = ax.legend(loc='upper left', shadow=False)\n",
    "    \n",
    "    plt.title('y vs t')\n",
    "    plt.xlabel('t')\n",
    "    plt.ylabel('y')\n",
    "    ax.set_xlim([0, 8])\n",
    "    ax.set_ylim([-2, 3])\n",
    "      \n",
    "    f,ax2 = plt.subplots(1,1, figsize=(14,3))\n",
    "    ax2.plot(t, Y, 'b', label='t*sin(t)')\n",
    "    \n",
    "    plt.title('t*sin(t)')\n",
    "    plt.xlabel('t')\n",
    "    plt.ylabel('t*sin(t)')\n",
    "\n",
    "    ax2.set_xlim([0, 8]) \n",
    "    ax2.set_ylim([-2, 9])    \n",
    "    \n",
    "    plt.show() \n",
    "    \n",
    "interact(plotter, a =(0,8,1))"
   ]
  },
  {
   "cell_type": "code",
   "execution_count": null,
   "metadata": {},
   "outputs": [],
   "source": []
  }
 ],
 "metadata": {
  "kernelspec": {
   "display_name": "Python 3",
   "language": "python",
   "name": "python3"
  },
  "language_info": {
   "codemirror_mode": {
    "name": "ipython",
    "version": 3
   },
   "file_extension": ".py",
   "mimetype": "text/x-python",
   "name": "python",
   "nbconvert_exporter": "python",
   "pygments_lexer": "ipython3",
   "version": "3.5.4"
  },
  "widgets": {
   "state": {
    "282546020b3b4eecb6c432e56800b5fd": {
     "views": [
      {
       "cell_index": 1
      }
     ]
    }
   },
   "version": "1.2.0"
  }
 },
 "nbformat": 4,
 "nbformat_minor": 2
}
