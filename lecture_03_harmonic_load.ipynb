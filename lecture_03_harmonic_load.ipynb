{
 "cells": [
  {
   "cell_type": "markdown",
   "metadata": {},
   "source": [
    "# Response of undamped/underdamped SDOF systems to harmonic loads\n",
    "\n",
    "The response of an undamped/underdamped SDOF system with stiffness $k$, natural angular frequency $\\omega_n$, and damping ratio $\\zeta$, to a harmonic load with amplitude $p_0$ and angular frequency $\\omega$ described by $p(t) = p_0\\sin{\\omega t}$, under initial displacement $u(0)$ and initial velocity $\\dot{u}(0)$, is given by\n",
    "\n",
    "$$u(t) = (C_1\\cos{\\omega_Dt} + C_2\\sin{\\omega_Dt})e^{-\\zeta\\omega_nt} + \\frac{p_0}{k} \\frac{(1 - \\beta^2)\\sin{\\omega t} - 2\\zeta\\beta\\cos{\\omega t}}{(1 - \\beta^2)^2 + (2\\zeta\\beta)^2}$$\n",
    "\n",
    "where\n",
    "\n",
    "$$\\beta = \\frac{\\omega}{\\omega_n}$$\n",
    "\n",
    "$$\\omega_D = \\omega_n\\sqrt{1 - \\zeta^2}$$\n",
    "\n",
    "$$C_1 = u(0) + \\frac{p_0}{k} \\frac{2\\zeta\\beta}{(1 - \\beta^2)^2 + (2\\zeta\\beta)^2}$$\n",
    "\n",
    "$$C_2 = \\frac{\\dot{u}(0) + \\zeta\\omega_nu(0)}{\\omega_D} + \\frac{p_0}{k\\omega_D} \\frac{2\\zeta^2\\beta\\omega_n - (1 - \\beta^2)\\omega}{(1 - \\beta^2)^2 + (2\\zeta\\beta)^2}$$\n",
    "\n",
    "## Resonance of undamped SDOF systems\n",
    "\n",
    "For the special case of an undamped SDOF system, when $\\beta = 1$, the response is given by\n",
    "\n",
    "$$u(t) = u(0)\\cos{\\omega_nt} + \\left(\\frac{\\dot{u}(0)}{\\omega_n} + \\frac{p_0}{2k}\\right)\\sin{\\omega_nt} - \\frac{p_0}{2k}\\omega_nt\\cos{\\omega_nt}$$"
   ]
  },
  {
   "cell_type": "code",
   "execution_count": 1,
   "metadata": {},
   "outputs": [],
   "source": [
    "% matplotlib inline\n",
    "\n",
    "# Import required modules\n",
    "import numpy as np\n",
    "import matplotlib.pyplot as plt\n",
    "import matplotlib.animation as ani\n",
    "import ipywidgets as wid\n",
    "import scipy.interpolate\n",
    "\n",
    "# Define plot attributes\n",
    "plt.rcParams['figure.figsize'] = (12, 17)\n",
    "plt.rcParams['font.size'] = 16\n",
    "plt.rcParams['axes.spines.top'] = False\n",
    "plt.rcParams['axes.spines.right'] = False\n",
    "plt.rcParams['axes.labelsize'] = 'large'\n",
    "plt.rcParams['xtick.labelsize'] = 'small'\n",
    "plt.rcParams['ytick.labelsize'] = 'small'\n",
    "plt.rcParams['animation.html'] = 'jshtml'"
   ]
  },
  {
   "cell_type": "code",
   "execution_count": 2,
   "metadata": {},
   "outputs": [],
   "source": [
    "\"\"\"\n",
    "Compute the response of an underdamped SDOF system to a harmonic load\n",
    "\n",
    "T_n    : Natural period\n",
    "T      : Period of harmonic load\n",
    "zeta   : Damping ratio\n",
    "u0     : Initial displacement\n",
    "v0     : Initial velocity\n",
    "t_max  : Time until which to compute response\n",
    "numpts : Number of points to discretise time array\n",
    "\"\"\"\n",
    "def compute_response(T_n, T, zeta, u0, v0, t_max, numpts):\n",
    "\n",
    "    # Compute the damped natural angular frequency and angular frequency of the load\n",
    "    omega_n = 2.0*np.pi/T_n\n",
    "    omega_D = omega_n*np.sqrt(1.0 - zeta**2)\n",
    "    omega = 2.0*np.pi/T\n",
    "    beta = omega/omega_n\n",
    "\n",
    "    # Define the time domain\n",
    "    t = np.linspace(0, t_max, numpts)\n",
    "\n",
    "    # Compute the transient response\n",
    "    u_st0 = 1.0\n",
    "    if zeta == 0.0 and beta == 1.0:\n",
    "        u_c = u0*np.cos(omega_n*t) + (v0/omega_n + u_st0/2.0)*np.sin(omega_n*t)\n",
    "    else:\n",
    "        factor = u_st0/((1 - beta**2)**2 + (2.0*zeta*beta)**2)\n",
    "        C_1 = u0 + factor*2.0*zeta*beta\n",
    "        C_2 = (v0 + zeta*omega_n*u0)/omega_D + factor/omega_D*(2.0*zeta**2*beta*omega_n - (1 - beta**2)*omega)\n",
    "        u_c = (C_1*np.cos(omega_D*t) + C_2*np.sin(omega_n*t))*np.exp(-zeta*omega_n*t)\n",
    "\n",
    "    # Compute the steady-state response\n",
    "    if zeta == 0.0 and beta == 1.0:\n",
    "        u_p = -u_st0/2.0*omega_n*t*np.cos(omega_n*t)\n",
    "    else:\n",
    "        u_p = factor*((1 - beta**2)*np.sin(omega*t) - 2.0*zeta*beta*np.cos(omega*t))\n",
    "    \n",
    "    # Compute the total response\n",
    "    u = u_c + u_p\n",
    "    \n",
    "    return t, u_c, u_p, u"
   ]
  },
  {
   "cell_type": "code",
   "execution_count": 3,
   "metadata": {},
   "outputs": [],
   "source": [
    "\"\"\"\n",
    "Plot and animate the response of an underdamped SDOF system to a harmonic load\n",
    "\n",
    "T_n       : Natural period\n",
    "T         : Period of harmonic load\n",
    "zeta      : Damping ratio\n",
    "u0        : Initial displacement\n",
    "v0        : Initial velocity\n",
    "anim_flag : Flag to animate the response\n",
    "\"\"\"\n",
    "def animate_response(T_n, T, zeta, u0, v0, anim_flag):\n",
    "    \n",
    "    # Compute the response\n",
    "    t_max = 4\n",
    "    numpts = 1000\n",
    "    t, u_c, u_p, u = compute_response(T_n, T, zeta, u0, v0, t_max, numpts)\n",
    "    \n",
    "    # Compute plot attributes\n",
    "    ymax = max(abs(min(u_c)), abs(max(u_c)), abs(min(u_p)), abs(max(u_p)), abs(min(u)), abs(max(u)))\n",
    "    \n",
    "    # Plot the transient response time history\n",
    "    fig = plt.figure()\n",
    "    ax1 = plt.subplot2grid((5, 1), (0, 0))\n",
    "    ax1.plot(t, u_c, color='k', linestyle='dashed', lw=2.0)\n",
    "    ax1.grid(True)\n",
    "    ax1.set_xlim(0.0, t_max)\n",
    "    ax1.set_ylim(1.2*np.array([-ymax, ymax]))\n",
    "    ax1.set_xlabel(r'$t$')\n",
    "    ax1.set_ylabel(r'$u_c(t)/(u_{st})_0$')\n",
    "    ax1.set_title('Transient response')\n",
    "    \n",
    "    # Plot the steady-state response time history\n",
    "    ax2 = plt.subplot2grid((5, 1), (1, 0))\n",
    "    ax2.plot(t, u_p, color='0.5', linestyle='dashed', lw=2.0)\n",
    "    ax2.grid(True)\n",
    "    ax2.set_xlim(0.0, t_max)\n",
    "    ax2.set_ylim(1.2*np.array([-ymax, ymax]))\n",
    "    ax2.set_xlabel(r'$t$')\n",
    "    ax2.set_ylabel(r'$u_p(t)/(u_{st})_0$')\n",
    "    ax2.set_title('Steady-state response')\n",
    "\n",
    "    # Plot the total response time history\n",
    "    ax3 = plt.subplot2grid((5, 1), (2, 0))\n",
    "    ax3.plot(t, u, color='#BF1C1C', lw=2.0, zorder=1)\n",
    "    ax3.grid(True)\n",
    "    ax3.set_xlim(0.0, t_max)\n",
    "    ax3.set_ylim(1.2*np.array([-ymax, ymax]))\n",
    "    ax3.set_xlabel(r'$t$')\n",
    "    ax3.set_ylabel(r'$u(t)/(u_{st})_0$')\n",
    "    ax3.set_title('Total response')\n",
    "    \n",
    "    plt.tight_layout(pad=0.5)\n",
    "    \n",
    "    # Animate the response if the toggle button is pressed\n",
    "    if anim_flag:\n",
    "\n",
    "        # Plot one frame of the animation\n",
    "        def plot_frame(frame_num):\n",
    "\n",
    "            # Plot the point moving over the response curve\n",
    "            lines[0].set_data(t_anim[frame_num], u_anim[frame_num])\n",
    "\n",
    "            # Plot the lollipop\n",
    "            numpts = 20\n",
    "            y = np.linspace(0, 1, numpts)\n",
    "            x = u_anim[frame_num]*(-2*y**3 + 3*y**2) + u_anim[frame_num]*1.5*y*(y**2 - y)\n",
    "            lines[1].set_data(x, y)\n",
    "            lines[2].set_data(u_anim[frame_num], 1)\n",
    "\n",
    "            return lines\n",
    "\n",
    "        # Initialise the axes\n",
    "        ax4 = plt.subplot2grid((5, 1), (3, 0), rowspan=2)\n",
    "        xmax = max(u)*5\n",
    "        ax4.set_xlim(-xmax, xmax)\n",
    "        ax4.set_ylim(-0.3, 1.3)\n",
    "        ax4.spines['left'].set_visible(False)\n",
    "        ax4.spines['bottom'].set_visible(False)\n",
    "        ax4.set_xticks(())\n",
    "        ax4.set_yticks(())\n",
    "        \n",
    "        # Create the dummy handles\n",
    "        lines = []\n",
    "        lines += ax3.plot([], [], color='k', marker='o', markersize=10, lw=0, zorder=1)\n",
    "        lines += ax4.plot([], [], color='k', lw=2.0, zorder=0)\n",
    "        lines += ax4.plot([], [], color='k', marker='o', markersize=60, markeredgewidth=2.0, markerfacecolor='w', \\\n",
    "                zorder=1)\n",
    "        plt.close()\n",
    "        \n",
    "        # Animate the response\n",
    "        fps = 30\n",
    "        numpts_anim = t_max*fps\n",
    "        t_anim = np.linspace(0, t_max, numpts_anim)\n",
    "        u_anim = scipy.interpolate.interp1d(t, u)(t_anim)\n",
    "        animation = ani.FuncAnimation(fig, plot_frame, frames=numpts_anim, interval=1000.0/fps, blit=True, repeat=False)\n",
    "        return animation"
   ]
  },
  {
   "cell_type": "code",
   "execution_count": 4,
   "metadata": {},
   "outputs": [
    {
     "data": {
      "application/vnd.jupyter.widget-view+json": {
       "model_id": "3923dfa6dcf142bcb748aae7944a19ca",
       "version_major": 2,
       "version_minor": 0
      },
      "text/plain": [
       "A Jupyter Widget"
      ]
     },
     "metadata": {},
     "output_type": "display_data"
    },
    {
     "data": {
      "text/plain": [
       "<function __main__.animate_response>"
      ]
     },
     "execution_count": 4,
     "metadata": {},
     "output_type": "execute_result"
    }
   ],
   "source": [
    "# Create the sliders\n",
    "wid.interact(animate_response, \\\n",
    "        T_n=wid.FloatSlider(value=0.2, min=0.1, max=2.0, step=0.1, description='$T_n$', continuous_update=False), \\\n",
    "        T=wid.FloatSlider(value=1.0, min=0.1, max=2.0, step=0.1, description='$T$', continuous_update=False), \\\n",
    "        zeta=wid.FloatSlider(value=0.04, min=0.0, max=0.99, step=0.01, description='$\\zeta$', continuous_update=False), \\\n",
    "        u0=wid.FloatSlider(value=1.0, min=-1.0, max=1.0, step=0.1, description='$u(0)$', continuous_update=False), \\\n",
    "        v0=wid.FloatSlider(value=0.0, min=-10.0, max=10.0, step=1.0, description='$\\dot{u}(0)$', \\\n",
    "                continuous_update=False), \\\n",
    "        anim_flag=wid.ToggleButton(description='Animate response', tooltip='Animation will take a short while to load'))"
   ]
  }
 ],
 "metadata": {
  "kernelspec": {
   "display_name": "Python 3",
   "language": "python",
   "name": "python3"
  },
  "language_info": {
   "codemirror_mode": {
    "name": "ipython",
    "version": 3
   },
   "file_extension": ".py",
   "mimetype": "text/x-python",
   "name": "python",
   "nbconvert_exporter": "python",
   "pygments_lexer": "ipython3",
   "version": "3.5.4"
  },
  "widgets": {
   "application/vnd.jupyter.widget-state+json": {
    "state": {
     "17c20a6cc8ca4a278766e4cbd510340a": {
      "model_module": "jupyter-js-widgets",
      "model_module_version": "~2.1.4",
      "model_name": "OutputModel",
      "state": {
       "_dom_classes": [],
       "_model_module": "jupyter-js-widgets",
       "_model_module_version": "~2.1.4",
       "_view_module": "jupyter-js-widgets",
       "_view_module_version": "~2.1.4",
       "layout": "IPY_MODEL_8ec1d0145cf54566bd77949c2c4afb7f",
       "msg_throttle": 1
      }
     },
     "1ce03153dffc47beb9e8cf59691105bf": {
      "model_module": "jupyter-js-widgets",
      "model_module_version": "~2.1.4",
      "model_name": "FloatSliderModel",
      "state": {
       "_model_module_version": "~2.1.4",
       "_view_module_version": "~2.1.4",
       "description": "v0",
       "layout": "IPY_MODEL_4871b2499caa47ecaffc0d3af7c4e559",
       "max": 10,
       "min": -10
      }
     },
     "28259043ba28498ea60baf460f5152b1": {
      "model_module": "jupyter-js-widgets",
      "model_module_version": "~2.1.4",
      "model_name": "LayoutModel",
      "state": {
       "_model_module_version": "~2.1.4",
       "_view_module_version": "~2.1.4"
      }
     },
     "2df3962b61fb4be9a56c9b1430f68153": {
      "model_module": "jupyter-js-widgets",
      "model_module_version": "~2.1.4",
      "model_name": "LayoutModel",
      "state": {
       "_model_module_version": "~2.1.4",
       "_view_module_version": "~2.1.4"
      }
     },
     "3b0f1314a6f1465d928ee197ac6dd81a": {
      "model_module": "jupyter-js-widgets",
      "model_module_version": "~2.1.4",
      "model_name": "LayoutModel",
      "state": {
       "_model_module_version": "~2.1.4",
       "_view_module_version": "~2.1.4"
      }
     },
     "40d0af68e74441d3bb9fe89ddcec9b3c": {
      "model_module": "jupyter-js-widgets",
      "model_module_version": "~2.1.4",
      "model_name": "FloatSliderModel",
      "state": {
       "_model_module_version": "~2.1.4",
       "_view_module_version": "~2.1.4",
       "description": "T_n",
       "layout": "IPY_MODEL_28259043ba28498ea60baf460f5152b1",
       "max": 2,
       "min": 0.1,
       "step": 0.1,
       "value": 0.2
      }
     },
     "4871b2499caa47ecaffc0d3af7c4e559": {
      "model_module": "jupyter-js-widgets",
      "model_module_version": "~2.1.4",
      "model_name": "LayoutModel",
      "state": {
       "_model_module_version": "~2.1.4",
       "_view_module_version": "~2.1.4"
      }
     },
     "4ce5158bc73f450a84f5c42b96906657": {
      "model_module": "jupyter-js-widgets",
      "model_module_version": "~2.1.4",
      "model_name": "VBoxModel",
      "state": {
       "_dom_classes": [
        "widget-interact"
       ],
       "_model_module_version": "~2.1.4",
       "_view_module_version": "~2.1.4",
       "children": [
        "IPY_MODEL_40d0af68e74441d3bb9fe89ddcec9b3c",
        "IPY_MODEL_8b85f76d57134c4b8f80dfa52a8c4fb8",
        "IPY_MODEL_5957864653904ff0b8c8519141256bd7",
        "IPY_MODEL_af23b6ffe703477fae5db66a7b10eb21",
        "IPY_MODEL_1ce03153dffc47beb9e8cf59691105bf",
        "IPY_MODEL_17c20a6cc8ca4a278766e4cbd510340a"
       ],
       "layout": "IPY_MODEL_2df3962b61fb4be9a56c9b1430f68153"
      }
     },
     "5957864653904ff0b8c8519141256bd7": {
      "model_module": "jupyter-js-widgets",
      "model_module_version": "~2.1.4",
      "model_name": "FloatSliderModel",
      "state": {
       "_model_module_version": "~2.1.4",
       "_view_module_version": "~2.1.4",
       "description": "zeta",
       "layout": "IPY_MODEL_64e03d99ce414610b23d2f78128997b6",
       "max": 0.99,
       "step": 0.01,
       "value": 0.04
      }
     },
     "64e03d99ce414610b23d2f78128997b6": {
      "model_module": "jupyter-js-widgets",
      "model_module_version": "~2.1.4",
      "model_name": "LayoutModel",
      "state": {
       "_model_module_version": "~2.1.4",
       "_view_module_version": "~2.1.4"
      }
     },
     "8b85f76d57134c4b8f80dfa52a8c4fb8": {
      "model_module": "jupyter-js-widgets",
      "model_module_version": "~2.1.4",
      "model_name": "FloatSliderModel",
      "state": {
       "_model_module_version": "~2.1.4",
       "_view_module_version": "~2.1.4",
       "description": "T",
       "layout": "IPY_MODEL_9d2760e9a2d141b3b2efed16b7c17857",
       "max": 2,
       "min": 0.1,
       "step": 0.1,
       "value": 1
      }
     },
     "8ec1d0145cf54566bd77949c2c4afb7f": {
      "model_module": "jupyter-js-widgets",
      "model_module_version": "~2.1.4",
      "model_name": "LayoutModel",
      "state": {
       "_model_module_version": "~2.1.4",
       "_view_module_version": "~2.1.4"
      }
     },
     "9d2760e9a2d141b3b2efed16b7c17857": {
      "model_module": "jupyter-js-widgets",
      "model_module_version": "~2.1.4",
      "model_name": "LayoutModel",
      "state": {
       "_model_module_version": "~2.1.4",
       "_view_module_version": "~2.1.4"
      }
     },
     "af23b6ffe703477fae5db66a7b10eb21": {
      "model_module": "jupyter-js-widgets",
      "model_module_version": "~2.1.4",
      "model_name": "FloatSliderModel",
      "state": {
       "_model_module_version": "~2.1.4",
       "_view_module_version": "~2.1.4",
       "description": "u0",
       "layout": "IPY_MODEL_3b0f1314a6f1465d928ee197ac6dd81a",
       "max": 1,
       "min": -1,
       "step": 0.1,
       "value": 1
      }
     }
    },
    "version_major": 1,
    "version_minor": 0
   }
  }
 },
 "nbformat": 4,
 "nbformat_minor": 2
}
