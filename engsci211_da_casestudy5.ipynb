{
 "cells": [
  {
   "cell_type": "markdown",
   "metadata": {},
   "source": [
    "# Case Study 5. Sale and Advertised Prices for Houses"
   ]
  },
  {
   "cell_type": "markdown",
   "metadata": {},
   "source": [
    "A random sample of 100 houses in Mt Eden (Auckland) that were recently\n",
    "sold was obtained (a number of years ago). Two observations were taken\n",
    "on each of the houses: the advertised price, and the price for which it\n",
    "actually sold. We want to examine whether there is a difference between\n",
    "the mean sale price and the mean advertised price. The variables\n",
    "measured were:\n",
    "\n",
    "\\begin{align*}\n",
    "\\textbf{advertised.price} &\\quad\\quad \\textrm{the price at which the property was advertised (in \\$)} \\\\\n",
    "\\textbf{sale.price} &\\quad\\quad \\textrm{the final sale price (in \\$)}\n",
    "\\end{align*}"
   ]
  },
  {
   "cell_type": "code",
   "execution_count": null,
   "metadata": {
    "collapsed": true
   },
   "outputs": [],
   "source": [
    "install.packages(\"s20x\")\n",
    "library(s20x)\n",
    "library(repr)\n",
    "options(repr.plot.width=8, repr.plot.height=6)"
   ]
  },
  {
   "cell_type": "code",
   "execution_count": null,
   "metadata": {
    "collapsed": true
   },
   "outputs": [],
   "source": [
    "data(house.df)\n",
    "head(house.df)"
   ]
  },
  {
   "cell_type": "code",
   "execution_count": null,
   "metadata": {
    "collapsed": true
   },
   "outputs": [],
   "source": [
    "# Calculate price difference\n",
    "price.difference = house.df$advertised.price - house.df$sell.price\n",
    "head(price.difference)"
   ]
  },
  {
   "cell_type": "code",
   "execution_count": null,
   "metadata": {
    "collapsed": true
   },
   "outputs": [],
   "source": [
    "boxplot(price.difference, main = \"Boxplot of price.difference\")"
   ]
  },
  {
   "cell_type": "code",
   "execution_count": null,
   "metadata": {
    "collapsed": true
   },
   "outputs": [],
   "source": [
    "summaryStats(price.difference)"
   ]
  },
  {
   "cell_type": "code",
   "execution_count": null,
   "metadata": {
    "collapsed": true
   },
   "outputs": [],
   "source": [
    "normcheck(price.difference)"
   ]
  },
  {
   "cell_type": "code",
   "execution_count": null,
   "metadata": {
    "collapsed": true
   },
   "outputs": [],
   "source": [
    "t.test(price.difference)"
   ]
  },
  {
   "cell_type": "code",
   "execution_count": null,
   "metadata": {
    "collapsed": true
   },
   "outputs": [],
   "source": [
    "t.test(house.df$advertised.price, house.df$sell.price, paired = TRUE)"
   ]
  },
  {
   "cell_type": "markdown",
   "metadata": {},
   "source": [
    "## Methods and Assumption Checks\n",
    "\n",
    "We wish to estimate the difference between the sale and advertised\n",
    "prices of same houses, so we carry out a paired-sample analysis.\n",
    "\n",
    "The houses are assumed to be independent of one another, although being\n",
    "from the same suburb may mean their prices are correlated. The Q-Q plot\n",
    "shows that the data is slightly right-skewed, however we can rely on the\n",
    "Central Limit Theorem to justify the Normality assumption.\n",
    "\n",
    "The model fitted is\n",
    "${\\tt diffHead}_i = \\mu_{\\text{diff}} + \\varepsilon_i$, where\n",
    "$\\mu_{\\text{diff}}$ is the mean difference between sale and advertised\n",
    "house prices for each house, and $\\varepsilon_i \\overset{\\text{iid}}{\\sim} N(0, \\sigma^2)$."
   ]
  },
  {
   "cell_type": "markdown",
   "metadata": {},
   "source": [
    "## Executive Summary\n",
    "\n",
    "Our interest in these data was to see whether the advertised and selling\n",
    "prices of houses in Mt Eden, Auckland were different.\n",
    "\n",
    "Since our original data involved two (related) measurements on each\n",
    "house (the advertised price and the final sale price), the difference\n",
    "between the two prices for each house has been analysed.\n",
    "\n",
    "We observe that the average advertised price is higher than the average\n",
    "final sale price of houses in Mt Eden. We estimate that the mean\n",
    "difference between the advertised price and the final sale price is at\n",
    "between \\$22140 and \\$26480."
   ]
  }
 ],
 "metadata": {
  "kernelspec": {
   "display_name": "R",
   "language": "R",
   "name": "r"
  },
  "language_info": {
   "codemirror_mode": "r",
   "file_extension": ".r",
   "mimetype": "text/x-r-source",
   "name": "R",
   "pygments_lexer": "r",
   "version": "3.3.3"
  }
 },
 "nbformat": 4,
 "nbformat_minor": 2
}
