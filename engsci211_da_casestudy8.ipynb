{
 "cells": [
  {
   "cell_type": "markdown",
   "metadata": {},
   "source": [
    "# Case Study 8. Cloud Seeding"
   ]
  },
  {
   "cell_type": "markdown",
   "metadata": {},
   "source": [
    "An experiment was conducted to see if cloud seeding increases rainfall.\n",
    "In this experiment, rainfall amounts were recorded from clouds that were\n",
    "randomly seeded with silver nitrate and from clouds that were not\n",
    "seeded. The variables measured were:\n",
    "\n",
    "\\begin{align*}\n",
    "\\texttt{rain} &\\quad\\quad \\textrm{the measured amount of rain} \\\\\n",
    "\\texttt{seed} &\\quad\\quad \\textrm{whether the clouds were seeded ('seeded') or not ('unseeded')}\n",
    "\\end{align*}\n",
    "\n",
    "Source: Chambers, J. M., Cleveland, W. S., Kleiner, B., Tukey, P. A.\n",
    "(1983). Graphical Methods for Data Analysis. Chapman and Hall."
   ]
  },
  {
   "cell_type": "code",
   "execution_count": null,
   "metadata": {},
   "outputs": [],
   "source": [
    "install.packages(\"s20x\")\n",
    "library(s20x)\n",
    "library(repr)\n",
    "options(repr.plot.width=8, repr.plot.height=6)"
   ]
  },
  {
   "cell_type": "code",
   "execution_count": null,
   "metadata": {},
   "outputs": [],
   "source": [
    "data(rain.df)\n",
    "#rain.df\n",
    "#attach(rain.df)\n",
    "#head(rain.df, 5)\n",
    "#tail(rain.df, 5)"
   ]
  },
  {
   "cell_type": "code",
   "execution_count": null,
   "metadata": {},
   "outputs": [],
   "source": [
    "# sets the order of the two categorical variables\n",
    "rain.df$seed = factor(rain.df$seed, levels = c(\"seeded\", \"unseeded\"))"
   ]
  },
  {
   "cell_type": "code",
   "execution_count": null,
   "metadata": {},
   "outputs": [],
   "source": [
    "boxplot(rain ~ seed, data = rain.df)"
   ]
  },
  {
   "cell_type": "code",
   "execution_count": null,
   "metadata": {},
   "outputs": [],
   "source": [
    "summaryStats(rain ~ seed, data = rain.df)"
   ]
  },
  {
   "cell_type": "code",
   "execution_count": null,
   "metadata": {},
   "outputs": [],
   "source": [
    "#normcheck(lm(rain ~ seed, data = rain.df))\n",
    "normcheck(rain.df$rain[rain.df$seed == \"seeded\"], shapiro.wilk = TRUE)\n",
    "normcheck(rain.df$rain[rain.df$seed == \"unseeded\"], shapiro.wilk = TRUE)"
   ]
  },
  {
   "cell_type": "code",
   "execution_count": null,
   "metadata": {},
   "outputs": [],
   "source": [
    "#eovcheck(rain ~ seed, data = rain.df)\n",
    "eovcheck(rain ~ seed, data = rain.df, levene = TRUE)"
   ]
  },
  {
   "cell_type": "code",
   "execution_count": null,
   "metadata": {},
   "outputs": [],
   "source": [
    "#normcheck(lm(log(rain) ~ seed, data = rain.df))\n",
    "normcheck(log(rain.df$rain[rain.df$seed == \"seeded\"]), shapiro.wilk = TRUE)\n",
    "normcheck(log(rain.df$rain[rain.df$seed == \"unseeded\"]), shapiro.wilk = TRUE)"
   ]
  },
  {
   "cell_type": "code",
   "execution_count": null,
   "metadata": {},
   "outputs": [],
   "source": [
    "eovcheck(log(rain) ~ seed, data = rain.df, levene = TRUE)"
   ]
  },
  {
   "cell_type": "code",
   "execution_count": null,
   "metadata": {
    "scrolled": true
   },
   "outputs": [],
   "source": [
    "t.test(rain ~ seed, var.equal = FALSE, data = rain.df)\n",
    "t.test(log(rain) ~ seed, var.equal = TRUE, data = rain.df)"
   ]
  },
  {
   "cell_type": "code",
   "execution_count": null,
   "metadata": {},
   "outputs": [],
   "source": [
    "ci = t.test(log(rain) ~ seed, var.equal = TRUE, data = rain.df)$conf.int\n",
    "ci\n",
    "exp(ci)"
   ]
  },
  {
   "cell_type": "markdown",
   "metadata": {},
   "source": [
    "## Note on interpreting a back-transformed confidence interval\n",
    "\n",
    "When our original data has been transformed by **log** we can\n",
    "interpret the back-transformed confidence interval in two ways.\n",
    "\n",
    "*First*: We can express our interval multiplicatively in terms of\n",
    "the **median**. For the above confidence interval we would say that\n",
    "we are 95% confident that the **median** rainfall from seeded\n",
    "clouds is somewhere between about 1.4 and 9.3 **times** the\n",
    "**median** rainfall from unseeded clouds.\n",
    "\n",
    "*Second*: We can report our findings in terms of percentage\n",
    "changes.\n",
    "\n",
    "To calculate the percentage change, we use the following formula:\n",
    "$$(\\exp(0.335545) - 1) \\times 100 = 39.8702$$\n",
    "$$(\\exp(2.228866) - 1) \\times 100 = 828.9329$$\n",
    "\n",
    "We can be 95% confident that the **median** rainfall from seeded\n",
    "clouds is somewhere between 40% and 830% greater than the\n",
    "**median** rainfall from unseeded clouds."
   ]
  },
  {
   "cell_type": "markdown",
   "metadata": {},
   "source": [
    "## Methods and Assumption Checks\n",
    "\n",
    "We have a numerical measurement made on two distinct groups, so we\n",
    "should do a two-sample $t$-test.\n",
    "\n",
    "We assume that the observations are independent through the experimental\n",
    "design. The equality of variance and Normality assumptions are clearly\n",
    "not satisfied, as one group has residuals that are more varied than the\n",
    "other group. The data is also clearly right-skewed. This suggests a\n",
    "multiplicative relationship, so we apply a log transformation. After the\n",
    "log transformation, the equality of variance and Normality assumptions\n",
    "appear to be satisfied. We can use the standard two-sample $t$-test on\n",
    "the transformed data.\n",
    "\n",
    "The model fitted is\n",
    "$\\log({\\tt rain}_{ij}) = \\mu + \\alpha_i + \\varepsilon_{ij}$, where\n",
    "$\\alpha_i$ is the effect of seeding the cloud or not, and\n",
    "$\\varepsilon_{ij} \\overset{\\text{iid}}{\\sim} N(0, \\sigma^2)$."
   ]
  },
  {
   "cell_type": "markdown",
   "metadata": {},
   "source": [
    "## Executive Summary\n",
    "\n",
    "An experiment was conducted to see if more rain was produced from clouds\n",
    "seeded with silver nitrate than from clouds that were not seeded.\n",
    "\n",
    "In order to perform an analysis on these data, a transformation was\n",
    "necessary. As a consequence, our results refer to median rainfall, and\n",
    "are expressed in multiplicative terms.\n",
    "\n",
    "We observe there is higher rainfall from clouds that have been seeded\n",
    "with silver nitrate compared to clouds that have not been seeded with\n",
    "silver nitrate.\n",
    "\n",
    "We estimate that the median rainfall from clouds seeded with silver\n",
    "nitrate is between 1.4 and 9.3 times the median rainfall from unseeded\n",
    "cloud"
   ]
  }
 ],
 "metadata": {
  "kernelspec": {
   "display_name": "R",
   "language": "R",
   "name": "r"
  },
  "language_info": {
   "codemirror_mode": "r",
   "file_extension": ".r",
   "mimetype": "text/x-r-source",
   "name": "R",
   "pygments_lexer": "r",
   "version": "3.4.1"
  }
 },
 "nbformat": 4,
 "nbformat_minor": 2
}
