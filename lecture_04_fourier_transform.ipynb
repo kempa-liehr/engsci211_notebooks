{
 "cells": [
  {
   "cell_type": "markdown",
   "metadata": {},
   "source": [
    "# Fourier transform\n",
    "\n",
    "The Fourier transform of a periodic function $p(t)$ with period $T_0$ is computed as\n",
    "\n",
    "$$p(t) = a_0 + \\sum_{j=1}^{\\infty} a_j\\cos{j\\omega_0t} + \\sum_{j=1}^{\\infty} b_j\\sin{j\\omega_0t}$$\n",
    "\n",
    "where\n",
    "\n",
    "$$\\omega_0 = \\frac{2\\pi}{T_0}$$ is the angular frequency of the periodic function\n",
    "\n",
    "$$a_0 = \\frac{1}{T_0} \\int_0^{T_0} p(t)dt$$\n",
    "\n",
    "$$a_j = \\frac{2}{T_0} \\int_0^{T_0} p(t)\\cos{j\\omega_0t}dt$$\n",
    "\n",
    "$$b_j = \\frac{2}{T_0} \\int_0^{T_0} p(t)\\sin{j\\omega_0t}dt$$\n",
    "\n",
    "Alternatively, the Fourier transform can be expressed in terms of complex exponential functions as\n",
    "\n",
    "$$p(t) = \\sum_{j=-\\infty}^{\\infty} P(j\\omega_0)e^{ij\\omega_0t}$$\n",
    "\n",
    "where\n",
    "\n",
    "$$i = \\sqrt{-1}$$\n",
    "\n",
    "$$P(j\\omega_0) = \\frac{1}{T_0} \\int_0^{T_0} p(t)e^{-ij\\omega_0t}dt$$\n",
    "\n",
    "Although each of these expressions involve sums over infinite harmonic components, a reasonable approximation of the function $p(t)$ can often be achieved using just the first few harmonic components.\n",
    "\n",
    "This notebook computes and plots the Fourier transform of a square and sawtooth wave function."
   ]
  },
  {
   "cell_type": "code",
   "execution_count": 1,
   "metadata": {},
   "outputs": [],
   "source": [
    "% matplotlib inline\n",
    "\n",
    "# Import required modules\n",
    "import numpy as np\n",
    "import matplotlib.pyplot as plt\n",
    "import scipy.fftpack\n",
    "import ipywidgets as wid\n",
    "\n",
    "# Define plot attributes\n",
    "plt.rcParams['figure.figsize'] = (16, 5)\n",
    "plt.rcParams['font.size'] = 16\n",
    "plt.rcParams['axes.spines.top'] = False\n",
    "plt.rcParams['axes.spines.right'] = False\n",
    "plt.rcParams['axes.labelsize'] = 'large'\n",
    "plt.rcParams['xtick.labelsize'] = 'small'\n",
    "plt.rcParams['ytick.labelsize'] = 'small'"
   ]
  },
  {
   "cell_type": "code",
   "execution_count": 2,
   "metadata": {},
   "outputs": [],
   "source": [
    "\"\"\"\n",
    "Compute the square wave function\n",
    "\n",
    "p0 : Amplitude of the function\n",
    "T  : Period of the function\n",
    "t  : Domain at which to evaluate the function\n",
    "\"\"\"\n",
    "def square_wave(p0, T, t):\n",
    "    return p0*np.sign(np.sin(2.0*np.pi*t/T))\n",
    "\n",
    "\"\"\"\n",
    "Compute the sawtooth wave function\n",
    "\n",
    "p0 : Amplitude of the function\n",
    "T  : Period of the function\n",
    "t  : Domain at which to evaluate the function\n",
    "\"\"\"\n",
    "def sawtooth_wave(p0, T, t):\n",
    "        return 2.0*p0*(t/T - np.floor(t/T + 1.0/2.0))\n",
    "\n",
    "# Define the function whose Fourier transform is to be computed\n",
    "p0 = 1.0\n",
    "T = 1.0\n",
    "num_pts = 512\n",
    "t = np.linspace(0.0, T, num_pts)\n",
    "#p = square_wave(p0, T, t)\n",
    "p = sawtooth_wave(p0, T, t)"
   ]
  },
  {
   "cell_type": "code",
   "execution_count": 3,
   "metadata": {},
   "outputs": [
    {
     "data": {
      "application/vnd.jupyter.widget-view+json": {
       "model_id": "64203cb0f02841bfa858b35dbb187c11",
       "version_major": 2,
       "version_minor": 0
      },
      "text/plain": [
       "interactive(children=(ToggleButtons(description='Function type', index=1, options=('Square wave', 'Sawtooth wa…"
      ]
     },
     "metadata": {},
     "output_type": "display_data"
    },
    {
     "data": {
      "text/plain": [
       "<function __main__.compute_plot_fourier_transform>"
      ]
     },
     "execution_count": 3,
     "metadata": {},
     "output_type": "execute_result"
    }
   ],
   "source": [
    "\"\"\"\n",
    "Compute and plot the Fourier transform of a given function\n",
    "\n",
    "num_harm : Number of harmonics to include (must be lesser than half the number of elements in t)\n",
    "p0       : Amplitude of the function\n",
    "T        : Period of the function\n",
    "p_name   : Name of the function whose Fourier transform is to be computed and plotted\n",
    "\"\"\"\n",
    "def compute_plot_fourier_transform(p0, T, p_name, num_harm, num_rep):\n",
    "    \n",
    "    # Compute the function over one period\n",
    "    num_pts = 512\n",
    "    t = np.linspace(0.0, T, num_pts)\n",
    "    func_map = {'Square wave':square_wave, 'Sawtooth wave':sawtooth_wave}\n",
    "    p = func_map[p_name](p0, T, t)\n",
    "    \n",
    "    # Compute the plotting domain and plot the function itself\n",
    "    tplot = []\n",
    "    pplot = []\n",
    "    for i in range(num_rep):\n",
    "        tplot += [t + i*t[-1]]\n",
    "        pplot += [p]\n",
    "    tplot = np.hstack(tplot)\n",
    "    pplot = np.hstack(pplot)\n",
    "    \n",
    "    plt.plot(tplot, pplot, lw=2.0, color='k')\n",
    "\n",
    "    # Compute the fourier transform\n",
    "    num_pts = len(t)\n",
    "    P = scipy.fftpack.fft(p)/num_pts\n",
    "    \n",
    "    # Plot the contant component\n",
    "    fourier = np.real(P[0])*np.ones(num_rep*num_pts)\n",
    "    plt.plot(tplot, fourier, lw=1.0, color='0.7')\n",
    "    \n",
    "    # Plot the first n harmonic components\n",
    "    a = 2.0*np.real(P)[1:num_harm + 1]\n",
    "    b = -2.0*np.imag(P)[1:num_harm + 1]\n",
    "    omega = 2.0*np.pi/T\n",
    "    for i in range(1, num_harm + 1):\n",
    "        harmonic = a[i - 1]*np.cos(i*omega*tplot) + b[i - 1]*np.sin(i*omega*tplot)\n",
    "        plt.plot(tplot, harmonic, lw=1.0, color='0.7')\n",
    "        fourier += harmonic\n",
    "    \n",
    "    # Plot the fourier transform of the function\n",
    "    plt.plot(tplot, fourier, lw=2.0, color='#BF1C1C')\n",
    "    \n",
    "    # Finalise plot\n",
    "    plt.grid(False)\n",
    "    plt.xlim(tplot[0], tplot[-1])\n",
    "    plt.xlabel('$t/T$')\n",
    "    plt.ylabel('$p(t)/p_0$')\n",
    "    \n",
    "    plt.tight_layout(pad=0.5)\n",
    "    plt.show()\n",
    "\n",
    "# Create the sliders\n",
    "wid.interact(compute_plot_fourier_transform, \\\n",
    "        p0=wid.fixed(1.0), \\\n",
    "        T=wid.fixed(1.0), \\\n",
    "        p_name=wid.ToggleButtons(value='Sawtooth wave', options=('Square wave', 'Sawtooth wave'), description='Function type'), \\\n",
    "        num_harm=wid.IntSlider(value=10, min=0, max=20, step=1, description='No. of harmonics', continuous_update=False), \\\n",
    "        num_rep=wid.IntSlider(value=4, min=1, max=6, step=1, description='No. of periods', continuous_update=False))"
   ]
  }
 ],
 "metadata": {
  "kernelspec": {
   "display_name": "Python 3",
   "language": "python",
   "name": "python3"
  },
  "language_info": {
   "codemirror_mode": {
    "name": "ipython",
    "version": 3
   },
   "file_extension": ".py",
   "mimetype": "text/x-python",
   "name": "python",
   "nbconvert_exporter": "python",
   "pygments_lexer": "ipython3",
   "version": "3.5.4"
  },
  "widgets": {
   "application/vnd.jupyter.widget-state+json": {
    "state": {
     "0264ab24c29d4bf583bf47fc36acbedb": {
      "model_module": "jupyter-js-widgets",
      "model_module_version": "~2.1.4",
      "model_name": "LayoutModel",
      "state": {
       "_model_module_version": "~2.1.4",
       "_view_module_version": "~2.1.4"
      }
     },
     "0798813f00134ec58e2788e053d8f159": {
      "model_module": "jupyter-js-widgets",
      "model_module_version": "~2.1.4",
      "model_name": "IntSliderModel",
      "state": {
       "_model_module_version": "~2.1.4",
       "_view_module_version": "~2.1.4",
       "description": "num_rep",
       "layout": "IPY_MODEL_3cec3bd7698c44f1b917557889e93297",
       "max": 6,
       "min": 1,
       "style": "IPY_MODEL_3f2779cd46384effad7da55c94b3ab62",
       "value": 3
      }
     },
     "2f7b6cb0893141b98cbcfba87bb2e103": {
      "model_module": "jupyter-js-widgets",
      "model_module_version": "~2.1.4",
      "model_name": "IntSliderModel",
      "state": {
       "_model_module_version": "~2.1.4",
       "_view_module_version": "~2.1.4",
       "description": "num_harm",
       "layout": "IPY_MODEL_df72dc32a1cf4ce5bea1f2d5d5de4b06",
       "max": 20,
       "style": "IPY_MODEL_e190a58f4fb04180bd1f5b0a3a29c0fd",
       "value": 10
      }
     },
     "3cec3bd7698c44f1b917557889e93297": {
      "model_module": "jupyter-js-widgets",
      "model_module_version": "~2.1.4",
      "model_name": "LayoutModel",
      "state": {
       "_model_module_version": "~2.1.4",
       "_view_module_version": "~2.1.4"
      }
     },
     "3f2779cd46384effad7da55c94b3ab62": {
      "model_module": "jupyter-js-widgets",
      "model_module_version": "~2.1.4",
      "model_name": "SliderStyleModel",
      "state": {
       "_model_module_version": "~2.1.4",
       "_view_module_version": "~2.1.4"
      }
     },
     "746cb71e1b0c430c8a512525fd4672cd": {
      "model_module": "jupyter-js-widgets",
      "model_module_version": "~2.1.4",
      "model_name": "LayoutModel",
      "state": {
       "_model_module_version": "~2.1.4",
       "_view_module_version": "~2.1.4"
      }
     },
     "c603e22a9b1547838292e708aed3bb8f": {
      "model_module": "jupyter-js-widgets",
      "model_module_version": "~2.1.4",
      "model_name": "VBoxModel",
      "state": {
       "_dom_classes": [
        "widget-interact"
       ],
       "_model_module_version": "~2.1.4",
       "_view_module_version": "~2.1.4",
       "children": [
        "IPY_MODEL_2f7b6cb0893141b98cbcfba87bb2e103",
        "IPY_MODEL_0798813f00134ec58e2788e053d8f159",
        "IPY_MODEL_fdeaf8cb9b92446a8e327be642d0aa64"
       ],
       "layout": "IPY_MODEL_746cb71e1b0c430c8a512525fd4672cd"
      }
     },
     "df72dc32a1cf4ce5bea1f2d5d5de4b06": {
      "model_module": "jupyter-js-widgets",
      "model_module_version": "~2.1.4",
      "model_name": "LayoutModel",
      "state": {
       "_model_module_version": "~2.1.4",
       "_view_module_version": "~2.1.4"
      }
     },
     "e190a58f4fb04180bd1f5b0a3a29c0fd": {
      "model_module": "jupyter-js-widgets",
      "model_module_version": "~2.1.4",
      "model_name": "SliderStyleModel",
      "state": {
       "_model_module_version": "~2.1.4",
       "_view_module_version": "~2.1.4"
      }
     },
     "fdeaf8cb9b92446a8e327be642d0aa64": {
      "model_module": "jupyter-js-widgets",
      "model_module_version": "~2.1.4",
      "model_name": "OutputModel",
      "state": {
       "_dom_classes": [],
       "_model_module": "jupyter-js-widgets",
       "_model_module_version": "~2.1.4",
       "_view_module": "jupyter-js-widgets",
       "_view_module_version": "~2.1.4",
       "layout": "IPY_MODEL_0264ab24c29d4bf583bf47fc36acbedb",
       "msg_throttle": 1
      }
     }
    },
    "version_major": 1,
    "version_minor": 0
   }
  }
 },
 "nbformat": 4,
 "nbformat_minor": 2
}
