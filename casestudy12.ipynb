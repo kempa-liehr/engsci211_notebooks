{
 "cells": [
  {
   "cell_type": "markdown",
   "metadata": {},
   "source": [
    "# Case Study 12. Candle Experiment"
   ]
  },
  {
   "cell_type": "markdown",
   "metadata": {},
   "source": [
    "The ..."
   ]
  },
  {
   "cell_type": "code",
   "execution_count": 3,
   "metadata": {},
   "outputs": [
    {
     "name": "stderr",
     "output_type": "stream",
     "text": [
      "Installing package into '/home/nbuser/R'\n",
      "(as 'lib' is unspecified)\n"
     ]
    }
   ],
   "source": [
    "install.packages(\"s20x\")\n",
    "library(s20x)"
   ]
  },
  {
   "cell_type": "code",
   "execution_count": 6,
   "metadata": {},
   "outputs": [
    {
     "data": {
      "text/html": [
       "<table>\n",
       "<thead><tr><th scope=col>storage</th><th scope=col>burn</th></tr></thead>\n",
       "<tbody>\n",
       "\t<tr><td>freezer</td><td>228    </td></tr>\n",
       "\t<tr><td>freezer</td><td>240    </td></tr>\n",
       "\t<tr><td>freezer</td><td>246    </td></tr>\n",
       "\t<tr><td>freezer</td><td>247    </td></tr>\n",
       "\t<tr><td>freezer</td><td>253    </td></tr>\n",
       "\t<tr><td>freezer</td><td>232    </td></tr>\n",
       "\t<tr><td>freezer</td><td>238    </td></tr>\n",
       "\t<tr><td>freezer</td><td>259    </td></tr>\n",
       "\t<tr><td>freezer</td><td>261    </td></tr>\n",
       "\t<tr><td>freezer</td><td>229    </td></tr>\n",
       "\t<tr><td>freezer</td><td>229    </td></tr>\n",
       "\t<tr><td>freezer</td><td>242    </td></tr>\n",
       "\t<tr><td>freezer</td><td>250    </td></tr>\n",
       "\t<tr><td>freezer</td><td>243    </td></tr>\n",
       "\t<tr><td>freezer</td><td>244    </td></tr>\n",
       "\t<tr><td>freezer</td><td>230    </td></tr>\n",
       "\t<tr><td>room   </td><td>255    </td></tr>\n",
       "\t<tr><td>room   </td><td>273    </td></tr>\n",
       "\t<tr><td>room   </td><td>257    </td></tr>\n",
       "\t<tr><td>room   </td><td>261    </td></tr>\n",
       "\t<tr><td>room   </td><td>277    </td></tr>\n",
       "\t<tr><td>room   </td><td>291    </td></tr>\n",
       "\t<tr><td>room   </td><td>280    </td></tr>\n",
       "\t<tr><td>room   </td><td>236    </td></tr>\n",
       "\t<tr><td>room   </td><td>277    </td></tr>\n",
       "\t<tr><td>room   </td><td>263    </td></tr>\n",
       "\t<tr><td>room   </td><td>279    </td></tr>\n",
       "\t<tr><td>room   </td><td>250    </td></tr>\n",
       "\t<tr><td>room   </td><td>292    </td></tr>\n",
       "\t<tr><td>room   </td><td>248    </td></tr>\n",
       "\t<tr><td>room   </td><td>300    </td></tr>\n",
       "</tbody>\n",
       "</table>\n"
      ],
      "text/latex": [
       "\\begin{tabular}{r|ll}\n",
       " storage & burn\\\\\n",
       "\\hline\n",
       "\t freezer & 228    \\\\\n",
       "\t freezer & 240    \\\\\n",
       "\t freezer & 246    \\\\\n",
       "\t freezer & 247    \\\\\n",
       "\t freezer & 253    \\\\\n",
       "\t freezer & 232    \\\\\n",
       "\t freezer & 238    \\\\\n",
       "\t freezer & 259    \\\\\n",
       "\t freezer & 261    \\\\\n",
       "\t freezer & 229    \\\\\n",
       "\t freezer & 229    \\\\\n",
       "\t freezer & 242    \\\\\n",
       "\t freezer & 250    \\\\\n",
       "\t freezer & 243    \\\\\n",
       "\t freezer & 244    \\\\\n",
       "\t freezer & 230    \\\\\n",
       "\t room    & 255    \\\\\n",
       "\t room    & 273    \\\\\n",
       "\t room    & 257    \\\\\n",
       "\t room    & 261    \\\\\n",
       "\t room    & 277    \\\\\n",
       "\t room    & 291    \\\\\n",
       "\t room    & 280    \\\\\n",
       "\t room    & 236    \\\\\n",
       "\t room    & 277    \\\\\n",
       "\t room    & 263    \\\\\n",
       "\t room    & 279    \\\\\n",
       "\t room    & 250    \\\\\n",
       "\t room    & 292    \\\\\n",
       "\t room    & 248    \\\\\n",
       "\t room    & 300    \\\\\n",
       "\\end{tabular}\n"
      ],
      "text/markdown": [
       "\n",
       "storage | burn | \n",
       "|---|---|---|---|---|---|---|---|---|---|---|---|---|---|---|---|---|---|---|---|---|---|---|---|---|---|---|---|---|---|---|\n",
       "| freezer | 228     | \n",
       "| freezer | 240     | \n",
       "| freezer | 246     | \n",
       "| freezer | 247     | \n",
       "| freezer | 253     | \n",
       "| freezer | 232     | \n",
       "| freezer | 238     | \n",
       "| freezer | 259     | \n",
       "| freezer | 261     | \n",
       "| freezer | 229     | \n",
       "| freezer | 229     | \n",
       "| freezer | 242     | \n",
       "| freezer | 250     | \n",
       "| freezer | 243     | \n",
       "| freezer | 244     | \n",
       "| freezer | 230     | \n",
       "| room    | 255     | \n",
       "| room    | 273     | \n",
       "| room    | 257     | \n",
       "| room    | 261     | \n",
       "| room    | 277     | \n",
       "| room    | 291     | \n",
       "| room    | 280     | \n",
       "| room    | 236     | \n",
       "| room    | 277     | \n",
       "| room    | 263     | \n",
       "| room    | 279     | \n",
       "| room    | 250     | \n",
       "| room    | 292     | \n",
       "| room    | 248     | \n",
       "| room    | 300     | \n",
       "\n",
       "\n"
      ],
      "text/plain": [
       "   storage burn\n",
       "1  freezer 228 \n",
       "2  freezer 240 \n",
       "3  freezer 246 \n",
       "4  freezer 247 \n",
       "5  freezer 253 \n",
       "6  freezer 232 \n",
       "7  freezer 238 \n",
       "8  freezer 259 \n",
       "9  freezer 261 \n",
       "10 freezer 229 \n",
       "11 freezer 229 \n",
       "12 freezer 242 \n",
       "13 freezer 250 \n",
       "14 freezer 243 \n",
       "15 freezer 244 \n",
       "16 freezer 230 \n",
       "17 room    255 \n",
       "18 room    273 \n",
       "19 room    257 \n",
       "20 room    261 \n",
       "21 room    277 \n",
       "22 room    291 \n",
       "23 room    280 \n",
       "24 room    236 \n",
       "25 room    277 \n",
       "26 room    263 \n",
       "27 room    279 \n",
       "28 room    250 \n",
       "29 room    292 \n",
       "30 room    248 \n",
       "31 room    300 "
      ]
     },
     "metadata": {},
     "output_type": "display_data"
    },
    {
     "data": {
      "image/png": "[encoded data removed]"
     },
     "metadata": {},
     "output_type": "display_data"
    }
   ],
   "source": [
    "candles.df = read.table(\"data/candles.txt\", header = TRUE)\n",
    "candles.df\n",
    "boxplot(burn ~ storage, data = candles.df)"
   ]
  },
  {
   "cell_type": "code",
   "execution_count": 7,
   "metadata": {},
   "outputs": [
    {
     "data": {
      "image/png": "[encoded data removed]"
     },
     "metadata": {},
     "output_type": "display_data"
    }
   ],
   "source": [
    "candles.fit = lm(burn ~ storage, data = candles.df)\n",
    "eovcheck(candles.fit, levene = TRUE)"
   ]
  },
  {
   "cell_type": "code",
   "execution_count": null,
   "metadata": {
    "collapsed": true
   },
   "outputs": [],
   "source": [
    "normcheck(candles.fit)"
   ]
  },
  {
   "cell_type": "code",
   "execution_count": null,
   "metadata": {
    "collapsed": true
   },
   "outputs": [],
   "source": [
    "cooks20x(candles.fit)"
   ]
  },
  {
   "cell_type": "code",
   "execution_count": null,
   "metadata": {
    "collapsed": true
   },
   "outputs": [],
   "source": [
    "summary(candles.fit)"
   ]
  },
  {
   "cell_type": "code",
   "execution_count": null,
   "metadata": {
    "collapsed": true
   },
   "outputs": [],
   "source": [
    "confint(candles.fit)"
   ]
  },
  {
   "cell_type": "code",
   "execution_count": null,
   "metadata": {
    "collapsed": true
   },
   "outputs": [],
   "source": [
    "pred.df = data.frame(storage = c(\"freezer\", \"room\"))\n",
    "predict(candles.fit, pred.df, interval = \"prediction\")"
   ]
  },
  {
   "cell_type": "code",
   "execution_count": null,
   "metadata": {
    "collapsed": true
   },
   "outputs": [],
   "source": [
    "# Model fits freezer as the baseline, and room = 1 So we generate this directly\n",
    "# from the factor. as.numeric(candles.df$storage) has 1 = freezer, 2 = room (R\n",
    "# makes this automatically)\n",
    "storageRoom = as.numeric(candles.df$storage) - 1\n",
    "plot(burn ~ storageRoom, main = \"Dot plots of burn time\", ylab = \"burn time\", pch = 1,\n",
    "data = candles.df)\n",
    "abline(candles.fit, col = \"red\")"
   ]
  },
  {
   "cell_type": "markdown",
   "metadata": {},
   "source": [
    "**Method and Assumption Checks**"
   ]
  },
  {
   "cell_type": "markdown",
   "metadata": {},
   "source": [
    "**Executive Summary**"
   ]
  },
  {
   "cell_type": "markdown",
   "metadata": {},
   "source": [
    "## Optional Commands"
   ]
  },
  {
   "cell_type": "code",
   "execution_count": null,
   "metadata": {
    "collapsed": true
   },
   "outputs": [],
   "source": [
    "t.test(burn ~ storage, var.equal = TRUE, data = candles.df)\n",
    "confint(candles.fit)"
   ]
  },
  {
   "cell_type": "code",
   "execution_count": null,
   "metadata": {
    "collapsed": true
   },
   "outputs": [],
   "source": [
    "t.test(burn ~ storage, var.equal = FALSE, data = candles.df)"
   ]
  }
 ],
 "metadata": {
  "kernelspec": {
   "display_name": "R",
   "language": "R",
   "name": "r"
  },
  "language_info": {
   "codemirror_mode": "r",
   "file_extension": ".r",
   "mimetype": "text/x-r-source",
   "name": "R",
   "pygments_lexer": "r",
   "version": "3.3.3"
  }
 },
 "nbformat": 4,
 "nbformat_minor": 2
}
